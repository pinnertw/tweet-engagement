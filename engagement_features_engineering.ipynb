{
 "cells": [
  {
   "cell_type": "code",
   "execution_count": 1,
   "id": "1aeebcb1",
   "metadata": {},
   "outputs": [],
   "source": [
    "%load_ext autoreload\n",
    "%autoreload 2\n",
    "\n",
    "\n",
    "import pandas as pd\n",
    "import numpy as np\n",
    "import matplotlib.pyplot as plt\n",
    "\n",
    "from src.utils import label, author_data, sample_submission, train, test, features_author"
   ]
  },
  {
   "cell_type": "code",
   "execution_count": 2,
   "id": "adcec020",
   "metadata": {},
   "outputs": [
    {
     "data": {
      "text/plain": [
       "Index(['engagement', 'timestamp', 'language', 'feature1', 'feature2',\n",
       "       'followers', 'author', 'word_count', 'shared_url_count',\n",
       "       'shared_url_domain', 'is_reply', 'is_retweet', 'contains_video',\n",
       "       'contains_image'],\n",
       "      dtype='object')"
      ]
     },
     "execution_count": 2,
     "metadata": {},
     "output_type": "execute_result"
    }
   ],
   "source": [
    "features_author"
   ]
  },
  {
   "cell_type": "markdown",
   "id": "26af5b3d",
   "metadata": {},
   "source": [
    "#### Optimize with a constant guess"
   ]
  },
  {
   "cell_type": "code",
   "execution_count": 6,
   "id": "8a6a1003",
   "metadata": {},
   "outputs": [
    {
     "data": {
      "text/plain": [
       "      fun: 1502.9885517331204\n",
       " hess_inv: array([[41.64743162]])\n",
       "      jac: array([0.])\n",
       "  message: 'Optimization terminated successfully.'\n",
       "     nfev: 108\n",
       "      nit: 5\n",
       "     njev: 54\n",
       "   status: 0\n",
       "  success: True\n",
       "        x: array([6.99999999])"
      ]
     },
     "execution_count": 6,
     "metadata": {},
     "output_type": "execute_result"
    }
   ],
   "source": [
    "from scipy.optimize import minimize\n",
    "def cost_mae(x):\n",
    "    return np.abs(author_data.engagement - x).mean()\n",
    "minimize(cost_mae, 0)"
   ]
  },
  {
   "cell_type": "code",
   "execution_count": 8,
   "id": "3a978884",
   "metadata": {},
   "outputs": [
    {
     "data": {
      "text/plain": [
       "      fun: 19266.483156881553\n",
       " hess_inv: array([[4945.7075919]])\n",
       "      jac: array([0.])\n",
       "  message: 'Optimization terminated successfully.'\n",
       "     nfev: 26\n",
       "      nit: 10\n",
       "     njev: 13\n",
       "   status: 0\n",
       "  success: True\n",
       "        x: array([486.46029153])"
      ]
     },
     "execution_count": 8,
     "metadata": {},
     "output_type": "execute_result"
    }
   ],
   "source": [
    "def cost_mae_train(x):\n",
    "    return np.abs(train.engagement - x).mean()\n",
    "minimize(cost_mae_train, 0)"
   ]
  },
  {
   "cell_type": "code",
   "execution_count": 10,
   "id": "8191496c",
   "metadata": {},
   "outputs": [],
   "source": [
    "sample_submission.engagement = 7\n",
    "sample_submission.to_csv(\"output/constant_output.csv\", index=False)"
   ]
  },
  {
   "cell_type": "markdown",
   "id": "3ef9f696",
   "metadata": {},
   "source": [
    "#### Label description"
   ]
  },
  {
   "cell_type": "code",
   "execution_count": 4,
   "id": "50929469",
   "metadata": {},
   "outputs": [
    {
     "data": {
      "text/plain": [
       "count    6.298770e+05\n",
       "mean     1.503918e+03\n",
       "std      1.192076e+04\n",
       "min      0.000000e+00\n",
       "25%      0.000000e+00\n",
       "50%      7.000000e+00\n",
       "75%      1.720000e+02\n",
       "max      1.328027e+06\n",
       "Name: engagement, dtype: float64"
      ]
     },
     "execution_count": 4,
     "metadata": {},
     "output_type": "execute_result"
    }
   ],
   "source": [
    "author_data.engagement.describe()"
   ]
  },
  {
   "cell_type": "code",
   "execution_count": 3,
   "id": "ba680725",
   "metadata": {},
   "outputs": [
    {
     "data": {
      "text/plain": [
       "count    4.156000e+03\n",
       "mean     1.934010e+04\n",
       "std      7.004105e+04\n",
       "min      0.000000e+00\n",
       "25%      1.200000e+01\n",
       "50%      4.870000e+02\n",
       "75%      6.848750e+03\n",
       "max      1.298512e+06\n",
       "Name: engagement, dtype: float64"
      ]
     },
     "execution_count": 3,
     "metadata": {},
     "output_type": "execute_result"
    }
   ],
   "source": [
    "train.engagement.describe()"
   ]
  },
  {
   "cell_type": "markdown",
   "id": "7b02c13d",
   "metadata": {},
   "source": [
    "#### Choose features according to their importance (RFE)"
   ]
  },
  {
   "cell_type": "code",
   "execution_count": 9,
   "id": "acf535b5",
   "metadata": {},
   "outputs": [
    {
     "name": "stdout",
     "output_type": "stream",
     "text": [
      "Fitting estimator with 1034 features.\n",
      "Fitting estimator with 1031 features.\n",
      "Fitting estimator with 1028 features.\n",
      "Fitting estimator with 1025 features.\n",
      "Fitting estimator with 1022 features.\n",
      "Fitting estimator with 1019 features.\n",
      "Fitting estimator with 1016 features.\n",
      "Fitting estimator with 1013 features.\n",
      "Fitting estimator with 1010 features.\n",
      "Fitting estimator with 1007 features.\n",
      "Fitting estimator with 1004 features.\n",
      "Fitting estimator with 1001 features.\n",
      "Fitting estimator with 998 features.\n",
      "Fitting estimator with 995 features.\n",
      "Fitting estimator with 992 features.\n",
      "Fitting estimator with 989 features.\n",
      "Fitting estimator with 986 features.\n",
      "Fitting estimator with 983 features.\n",
      "Fitting estimator with 980 features.\n",
      "Fitting estimator with 977 features.\n",
      "Fitting estimator with 974 features.\n",
      "Fitting estimator with 971 features.\n",
      "Fitting estimator with 968 features.\n",
      "Fitting estimator with 965 features.\n",
      "Fitting estimator with 962 features.\n",
      "Fitting estimator with 959 features.\n",
      "Fitting estimator with 956 features.\n",
      "Fitting estimator with 953 features.\n",
      "Fitting estimator with 950 features.\n",
      "Fitting estimator with 947 features.\n",
      "Fitting estimator with 944 features.\n",
      "Fitting estimator with 941 features.\n",
      "Fitting estimator with 938 features.\n",
      "Fitting estimator with 935 features.\n",
      "Fitting estimator with 932 features.\n",
      "Fitting estimator with 929 features.\n",
      "Fitting estimator with 926 features.\n",
      "Fitting estimator with 923 features.\n",
      "Fitting estimator with 920 features.\n",
      "Fitting estimator with 917 features.\n",
      "Fitting estimator with 914 features.\n",
      "Fitting estimator with 911 features.\n",
      "Fitting estimator with 908 features.\n",
      "Fitting estimator with 905 features.\n",
      "Fitting estimator with 902 features.\n",
      "Fitting estimator with 899 features.\n",
      "Fitting estimator with 896 features.\n",
      "Fitting estimator with 893 features.\n",
      "Fitting estimator with 890 features.\n",
      "Fitting estimator with 887 features.\n",
      "Fitting estimator with 884 features.\n",
      "Fitting estimator with 881 features.\n",
      "Fitting estimator with 878 features.\n",
      "Fitting estimator with 875 features.\n",
      "Fitting estimator with 872 features.\n",
      "Fitting estimator with 869 features.\n",
      "Fitting estimator with 866 features.\n",
      "Fitting estimator with 863 features.\n",
      "Fitting estimator with 860 features.\n",
      "Fitting estimator with 857 features.\n",
      "Fitting estimator with 854 features.\n",
      "Fitting estimator with 851 features.\n",
      "Fitting estimator with 848 features.\n",
      "Fitting estimator with 845 features.\n",
      "Fitting estimator with 842 features.\n",
      "Fitting estimator with 839 features.\n",
      "Fitting estimator with 836 features.\n",
      "Fitting estimator with 833 features.\n",
      "Fitting estimator with 830 features.\n",
      "Fitting estimator with 827 features.\n",
      "Fitting estimator with 824 features.\n",
      "Fitting estimator with 821 features.\n",
      "Fitting estimator with 818 features.\n",
      "Fitting estimator with 815 features.\n",
      "Fitting estimator with 812 features.\n",
      "Fitting estimator with 809 features.\n",
      "Fitting estimator with 806 features.\n",
      "Fitting estimator with 803 features.\n",
      "Fitting estimator with 800 features.\n",
      "Fitting estimator with 797 features.\n",
      "Fitting estimator with 794 features.\n",
      "Fitting estimator with 791 features.\n",
      "Fitting estimator with 788 features.\n",
      "Fitting estimator with 785 features.\n",
      "Fitting estimator with 782 features.\n",
      "Fitting estimator with 779 features.\n",
      "Fitting estimator with 776 features.\n",
      "Fitting estimator with 773 features.\n",
      "Fitting estimator with 770 features.\n",
      "Fitting estimator with 767 features.\n",
      "Fitting estimator with 764 features.\n",
      "Fitting estimator with 761 features.\n",
      "Fitting estimator with 758 features.\n",
      "Fitting estimator with 755 features.\n",
      "Fitting estimator with 752 features.\n",
      "Fitting estimator with 749 features.\n",
      "Fitting estimator with 746 features.\n",
      "Fitting estimator with 743 features.\n",
      "Fitting estimator with 740 features.\n",
      "Fitting estimator with 737 features.\n",
      "Fitting estimator with 734 features.\n",
      "Fitting estimator with 731 features.\n",
      "Fitting estimator with 728 features.\n",
      "Fitting estimator with 725 features.\n",
      "Fitting estimator with 722 features.\n",
      "Fitting estimator with 719 features.\n",
      "Fitting estimator with 716 features.\n",
      "Fitting estimator with 713 features.\n",
      "Fitting estimator with 710 features.\n",
      "Fitting estimator with 707 features.\n",
      "Fitting estimator with 704 features.\n",
      "Fitting estimator with 701 features.\n",
      "Fitting estimator with 698 features.\n",
      "Fitting estimator with 695 features.\n",
      "Fitting estimator with 692 features.\n",
      "Fitting estimator with 689 features.\n",
      "Fitting estimator with 686 features.\n",
      "Fitting estimator with 683 features.\n",
      "Fitting estimator with 680 features.\n",
      "Fitting estimator with 677 features.\n",
      "Fitting estimator with 674 features.\n",
      "Fitting estimator with 671 features.\n",
      "Fitting estimator with 668 features.\n",
      "Fitting estimator with 665 features.\n",
      "Fitting estimator with 662 features.\n",
      "Fitting estimator with 659 features.\n",
      "Fitting estimator with 656 features.\n",
      "Fitting estimator with 653 features.\n",
      "Fitting estimator with 650 features.\n",
      "Fitting estimator with 647 features.\n",
      "Fitting estimator with 644 features.\n",
      "Fitting estimator with 641 features.\n",
      "Fitting estimator with 638 features.\n",
      "Fitting estimator with 635 features.\n",
      "Fitting estimator with 632 features.\n",
      "Fitting estimator with 629 features.\n",
      "Fitting estimator with 626 features.\n",
      "Fitting estimator with 623 features.\n",
      "Fitting estimator with 620 features.\n",
      "Fitting estimator with 617 features.\n",
      "Fitting estimator with 614 features.\n",
      "Fitting estimator with 611 features.\n",
      "Fitting estimator with 608 features.\n",
      "Fitting estimator with 605 features.\n",
      "Fitting estimator with 602 features.\n",
      "Fitting estimator with 599 features.\n",
      "Fitting estimator with 596 features.\n",
      "Fitting estimator with 593 features.\n",
      "Fitting estimator with 590 features.\n",
      "Fitting estimator with 587 features.\n",
      "Fitting estimator with 584 features.\n",
      "Fitting estimator with 581 features.\n",
      "Fitting estimator with 578 features.\n",
      "Fitting estimator with 575 features.\n",
      "Fitting estimator with 572 features.\n",
      "Fitting estimator with 569 features.\n",
      "Fitting estimator with 566 features.\n",
      "Fitting estimator with 563 features.\n",
      "Fitting estimator with 560 features.\n",
      "Fitting estimator with 557 features.\n",
      "Fitting estimator with 554 features.\n",
      "Fitting estimator with 551 features.\n",
      "Fitting estimator with 548 features.\n",
      "Fitting estimator with 545 features.\n",
      "Fitting estimator with 542 features.\n",
      "Fitting estimator with 539 features.\n",
      "Fitting estimator with 536 features.\n",
      "Fitting estimator with 533 features.\n",
      "Fitting estimator with 530 features.\n",
      "Fitting estimator with 527 features.\n",
      "Fitting estimator with 524 features.\n",
      "Fitting estimator with 521 features.\n",
      "Fitting estimator with 518 features.\n",
      "Fitting estimator with 515 features.\n",
      "Fitting estimator with 512 features.\n",
      "Fitting estimator with 509 features.\n",
      "Fitting estimator with 506 features.\n",
      "Fitting estimator with 503 features.\n",
      "Fitting estimator with 500 features.\n",
      "Fitting estimator with 497 features.\n",
      "Fitting estimator with 494 features.\n",
      "Fitting estimator with 491 features.\n",
      "Fitting estimator with 488 features.\n",
      "Fitting estimator with 485 features.\n",
      "Fitting estimator with 482 features.\n",
      "Fitting estimator with 479 features.\n",
      "Fitting estimator with 476 features.\n",
      "Fitting estimator with 473 features.\n",
      "Fitting estimator with 470 features.\n",
      "Fitting estimator with 467 features.\n",
      "Fitting estimator with 464 features.\n",
      "Fitting estimator with 461 features.\n",
      "Fitting estimator with 458 features.\n",
      "Fitting estimator with 455 features.\n",
      "Fitting estimator with 452 features.\n",
      "Fitting estimator with 449 features.\n",
      "Fitting estimator with 446 features.\n",
      "Fitting estimator with 443 features.\n",
      "Fitting estimator with 440 features.\n",
      "Fitting estimator with 437 features.\n",
      "Fitting estimator with 434 features.\n",
      "Fitting estimator with 431 features.\n",
      "Fitting estimator with 428 features.\n",
      "Fitting estimator with 425 features.\n",
      "Fitting estimator with 422 features.\n",
      "Fitting estimator with 419 features.\n",
      "Fitting estimator with 416 features.\n",
      "Fitting estimator with 413 features.\n",
      "Fitting estimator with 410 features.\n",
      "Fitting estimator with 407 features.\n",
      "Fitting estimator with 404 features.\n",
      "Fitting estimator with 401 features.\n",
      "Fitting estimator with 398 features.\n",
      "Fitting estimator with 395 features.\n",
      "Fitting estimator with 392 features.\n",
      "Fitting estimator with 389 features.\n",
      "Fitting estimator with 386 features.\n",
      "Fitting estimator with 383 features.\n",
      "Fitting estimator with 380 features.\n",
      "Fitting estimator with 377 features.\n",
      "Fitting estimator with 374 features.\n",
      "Fitting estimator with 371 features.\n"
     ]
    },
    {
     "name": "stdout",
     "output_type": "stream",
     "text": [
      "Fitting estimator with 368 features.\n",
      "Fitting estimator with 365 features.\n",
      "Fitting estimator with 362 features.\n",
      "Fitting estimator with 359 features.\n",
      "Fitting estimator with 356 features.\n",
      "Fitting estimator with 353 features.\n",
      "Fitting estimator with 350 features.\n",
      "Fitting estimator with 347 features.\n",
      "Fitting estimator with 344 features.\n",
      "Fitting estimator with 341 features.\n",
      "Fitting estimator with 338 features.\n",
      "Fitting estimator with 335 features.\n",
      "Fitting estimator with 332 features.\n",
      "Fitting estimator with 329 features.\n",
      "Fitting estimator with 326 features.\n",
      "Fitting estimator with 323 features.\n",
      "Fitting estimator with 320 features.\n",
      "Fitting estimator with 317 features.\n",
      "Fitting estimator with 314 features.\n",
      "Fitting estimator with 311 features.\n",
      "Fitting estimator with 308 features.\n",
      "Fitting estimator with 305 features.\n",
      "Fitting estimator with 302 features.\n",
      "Fitting estimator with 299 features.\n",
      "Fitting estimator with 296 features.\n",
      "Fitting estimator with 293 features.\n",
      "Fitting estimator with 290 features.\n",
      "Fitting estimator with 287 features.\n",
      "Fitting estimator with 284 features.\n",
      "Fitting estimator with 281 features.\n",
      "Fitting estimator with 278 features.\n",
      "Fitting estimator with 275 features.\n",
      "Fitting estimator with 272 features.\n",
      "Fitting estimator with 269 features.\n",
      "Fitting estimator with 266 features.\n",
      "Fitting estimator with 263 features.\n",
      "Fitting estimator with 260 features.\n",
      "Fitting estimator with 257 features.\n",
      "Fitting estimator with 254 features.\n",
      "Fitting estimator with 251 features.\n",
      "Fitting estimator with 248 features.\n",
      "Fitting estimator with 245 features.\n",
      "Fitting estimator with 242 features.\n",
      "Fitting estimator with 239 features.\n",
      "Fitting estimator with 236 features.\n",
      "Fitting estimator with 233 features.\n",
      "Fitting estimator with 230 features.\n",
      "Fitting estimator with 227 features.\n",
      "Fitting estimator with 224 features.\n",
      "Fitting estimator with 221 features.\n",
      "Fitting estimator with 218 features.\n",
      "Fitting estimator with 215 features.\n",
      "Fitting estimator with 212 features.\n",
      "Fitting estimator with 209 features.\n",
      "Fitting estimator with 206 features.\n",
      "Fitting estimator with 203 features.\n",
      "Fitting estimator with 200 features.\n",
      "Fitting estimator with 197 features.\n",
      "Fitting estimator with 194 features.\n",
      "Fitting estimator with 191 features.\n",
      "Fitting estimator with 188 features.\n",
      "Fitting estimator with 185 features.\n",
      "Fitting estimator with 182 features.\n",
      "Fitting estimator with 179 features.\n",
      "Fitting estimator with 176 features.\n",
      "Fitting estimator with 173 features.\n",
      "Fitting estimator with 170 features.\n",
      "Fitting estimator with 167 features.\n",
      "Fitting estimator with 164 features.\n",
      "Fitting estimator with 161 features.\n",
      "Fitting estimator with 158 features.\n",
      "Fitting estimator with 155 features.\n",
      "Fitting estimator with 152 features.\n",
      "Fitting estimator with 149 features.\n",
      "Fitting estimator with 146 features.\n",
      "Fitting estimator with 143 features.\n",
      "Fitting estimator with 140 features.\n",
      "Fitting estimator with 137 features.\n",
      "Fitting estimator with 134 features.\n",
      "Fitting estimator with 131 features.\n",
      "Fitting estimator with 128 features.\n",
      "Fitting estimator with 125 features.\n",
      "Fitting estimator with 122 features.\n",
      "Fitting estimator with 119 features.\n",
      "Fitting estimator with 116 features.\n",
      "Fitting estimator with 113 features.\n",
      "Fitting estimator with 110 features.\n",
      "Fitting estimator with 107 features.\n",
      "Fitting estimator with 104 features.\n",
      "Fitting estimator with 101 features.\n",
      "Fitting estimator with 98 features.\n",
      "Fitting estimator with 95 features.\n",
      "Fitting estimator with 92 features.\n",
      "Fitting estimator with 89 features.\n",
      "Fitting estimator with 86 features.\n",
      "Fitting estimator with 83 features.\n",
      "Fitting estimator with 80 features.\n",
      "Fitting estimator with 77 features.\n",
      "Fitting estimator with 74 features.\n",
      "Fitting estimator with 71 features.\n",
      "Fitting estimator with 68 features.\n",
      "Fitting estimator with 65 features.\n",
      "Fitting estimator with 62 features.\n",
      "Fitting estimator with 59 features.\n",
      "Fitting estimator with 56 features.\n",
      "Fitting estimator with 53 features.\n",
      "Fitting estimator with 50 features.\n",
      "Fitting estimator with 47 features.\n",
      "Fitting estimator with 44 features.\n",
      "Fitting estimator with 41 features.\n",
      "Fitting estimator with 38 features.\n",
      "Fitting estimator with 35 features.\n",
      "Fitting estimator with 32 features.\n",
      "Fitting estimator with 29 features.\n",
      "Fitting estimator with 26 features.\n",
      "Fitting estimator with 23 features.\n",
      "Fitting estimator with 20 features.\n",
      "Fitting estimator with 17 features.\n",
      "Fitting estimator with 14 features.\n",
      "Fitting estimator with 11 features.\n",
      "Fitting estimator with 8 features.\n",
      "CPU times: user 34min 24s, sys: 13 s, total: 34min 37s\n",
      "Wall time: 2min 53s\n"
     ]
    },
    {
     "data": {
      "text/plain": [
       "RFE(estimator=LGBMRegressor(learning_rate=0.07, max_depth=5, num_leaves=10,\n",
       "                            objective='mae', random_state=0),\n",
       "    n_features_to_select=5, step=3, verbose=1)"
      ]
     },
     "execution_count": 9,
     "metadata": {},
     "output_type": "execute_result"
    }
   ],
   "source": [
    "%%time\n",
    "from sklearn.feature_selection import RFE\n",
    "from lightgbm import LGBMRegressor\n",
    "selector = RFE(LGBMRegressor(num_leaves=10, \n",
    "                max_depth=5, \n",
    "                learning_rate=0.07, \n",
    "                objective=\"mae\",\n",
    "                random_state=0),\n",
    "               n_features_to_select=5, \n",
    "               step=3,\n",
    "               verbose=1,\n",
    "   )\n",
    "selector.fit(train.drop(columns=[\"engagement\" ,\"language\", \"shared_url_domain\", \"author\"]), train.engagement)"
   ]
  },
  {
   "cell_type": "code",
   "execution_count": 10,
   "id": "805fddbc",
   "metadata": {},
   "outputs": [
    {
     "name": "stdout",
     "output_type": "stream",
     "text": [
      "[ True False False ... False False False]\n",
      "[  1  82  41 ... 336 342 343]\n"
     ]
    }
   ],
   "source": [
    "print(selector.support_)\n",
    "print(selector.ranking_)"
   ]
  },
  {
   "cell_type": "code",
   "execution_count": 13,
   "id": "63428d7f",
   "metadata": {},
   "outputs": [
    {
     "data": {
      "text/html": [
       "<div>\n",
       "<style scoped>\n",
       "    .dataframe tbody tr th:only-of-type {\n",
       "        vertical-align: middle;\n",
       "    }\n",
       "\n",
       "    .dataframe tbody tr th {\n",
       "        vertical-align: top;\n",
       "    }\n",
       "\n",
       "    .dataframe thead th {\n",
       "        text-align: right;\n",
       "    }\n",
       "</style>\n",
       "<table border=\"1\" class=\"dataframe\">\n",
       "  <thead>\n",
       "    <tr style=\"text-align: right;\">\n",
       "      <th></th>\n",
       "      <th>timestamp</th>\n",
       "      <th>followers</th>\n",
       "      <th>is_reply</th>\n",
       "      <th>V8</th>\n",
       "      <th>V266</th>\n",
       "    </tr>\n",
       "  </thead>\n",
       "  <tbody>\n",
       "    <tr>\n",
       "      <th>0</th>\n",
       "      <td>1655784230254</td>\n",
       "      <td>696</td>\n",
       "      <td>False</td>\n",
       "      <td>0.086126</td>\n",
       "      <td>0.052564</td>\n",
       "    </tr>\n",
       "    <tr>\n",
       "      <th>1</th>\n",
       "      <td>1655599613254</td>\n",
       "      <td>17526</td>\n",
       "      <td>False</td>\n",
       "      <td>0.075310</td>\n",
       "      <td>0.071889</td>\n",
       "    </tr>\n",
       "    <tr>\n",
       "      <th>2</th>\n",
       "      <td>1655788872254</td>\n",
       "      <td>239</td>\n",
       "      <td>True</td>\n",
       "      <td>0.067732</td>\n",
       "      <td>0.031401</td>\n",
       "    </tr>\n",
       "    <tr>\n",
       "      <th>3</th>\n",
       "      <td>1655788810254</td>\n",
       "      <td>21531</td>\n",
       "      <td>False</td>\n",
       "      <td>0.095869</td>\n",
       "      <td>0.030384</td>\n",
       "    </tr>\n",
       "    <tr>\n",
       "      <th>4</th>\n",
       "      <td>1655789250254</td>\n",
       "      <td>101278</td>\n",
       "      <td>False</td>\n",
       "      <td>0.064887</td>\n",
       "      <td>0.065653</td>\n",
       "    </tr>\n",
       "    <tr>\n",
       "      <th>...</th>\n",
       "      <td>...</td>\n",
       "      <td>...</td>\n",
       "      <td>...</td>\n",
       "      <td>...</td>\n",
       "      <td>...</td>\n",
       "    </tr>\n",
       "    <tr>\n",
       "      <th>4151</th>\n",
       "      <td>1655757328254</td>\n",
       "      <td>8781</td>\n",
       "      <td>False</td>\n",
       "      <td>0.079026</td>\n",
       "      <td>0.063873</td>\n",
       "    </tr>\n",
       "    <tr>\n",
       "      <th>4152</th>\n",
       "      <td>1655789504254</td>\n",
       "      <td>1347</td>\n",
       "      <td>False</td>\n",
       "      <td>0.007193</td>\n",
       "      <td>0.051595</td>\n",
       "    </tr>\n",
       "    <tr>\n",
       "      <th>4153</th>\n",
       "      <td>1655789228254</td>\n",
       "      <td>2299</td>\n",
       "      <td>False</td>\n",
       "      <td>0.071753</td>\n",
       "      <td>0.011959</td>\n",
       "    </tr>\n",
       "    <tr>\n",
       "      <th>4154</th>\n",
       "      <td>1655772495254</td>\n",
       "      <td>143736</td>\n",
       "      <td>False</td>\n",
       "      <td>0.097763</td>\n",
       "      <td>0.051059</td>\n",
       "    </tr>\n",
       "    <tr>\n",
       "      <th>4155</th>\n",
       "      <td>1655789289254</td>\n",
       "      <td>1550</td>\n",
       "      <td>False</td>\n",
       "      <td>0.004789</td>\n",
       "      <td>0.012222</td>\n",
       "    </tr>\n",
       "  </tbody>\n",
       "</table>\n",
       "<p>4156 rows × 5 columns</p>\n",
       "</div>"
      ],
      "text/plain": [
       "          timestamp  followers  is_reply        V8      V266\n",
       "0     1655784230254        696     False  0.086126  0.052564\n",
       "1     1655599613254      17526     False  0.075310  0.071889\n",
       "2     1655788872254        239      True  0.067732  0.031401\n",
       "3     1655788810254      21531     False  0.095869  0.030384\n",
       "4     1655789250254     101278     False  0.064887  0.065653\n",
       "...             ...        ...       ...       ...       ...\n",
       "4151  1655757328254       8781     False  0.079026  0.063873\n",
       "4152  1655789504254       1347     False  0.007193  0.051595\n",
       "4153  1655789228254       2299     False  0.071753  0.011959\n",
       "4154  1655772495254     143736     False  0.097763  0.051059\n",
       "4155  1655789289254       1550     False  0.004789  0.012222\n",
       "\n",
       "[4156 rows x 5 columns]"
      ]
     },
     "execution_count": 13,
     "metadata": {},
     "output_type": "execute_result"
    }
   ],
   "source": [
    "train.drop(columns=[\"engagement\" ,\"language\", \"shared_url_domain\", \"author\"]).iloc[:, selector.support_]"
   ]
  },
  {
   "cell_type": "code",
   "execution_count": 18,
   "id": "6cc159ad",
   "metadata": {},
   "outputs": [
    {
     "data": {
      "text/plain": [
       "Index(['timestamp', 'followers', 'shared_url_count', 'is_reply', 'V8', 'V258',\n",
       "       'V266', 'V456', 'V479', 'V582', 'V632', 'V687', 'V716', 'V915'],\n",
       "      dtype='object')"
      ]
     },
     "execution_count": 18,
     "metadata": {},
     "output_type": "execute_result"
    }
   ],
   "source": [
    "train.drop(columns=[\"engagement\" ,\"language\", \"shared_url_domain\", \"author\"]).iloc[:, selector.ranking_ < 5].columns"
   ]
  },
  {
   "cell_type": "code",
   "execution_count": 19,
   "id": "a5ea2c7a",
   "metadata": {},
   "outputs": [
    {
     "data": {
      "text/plain": [
       "14"
      ]
     },
     "execution_count": 19,
     "metadata": {},
     "output_type": "execute_result"
    }
   ],
   "source": [
    "len(['timestamp', 'followers', 'shared_url_count', 'is_reply', 'V8', 'V258',\n",
    "       'V266', 'V456', 'V479', 'V582', 'V632', 'V687', 'V716', 'V915'])"
   ]
  },
  {
   "cell_type": "markdown",
   "id": "07ff40fd",
   "metadata": {},
   "source": [
    "## We start with one author"
   ]
  },
  {
   "cell_type": "code",
   "execution_count": 1,
   "id": "1b5311df",
   "metadata": {},
   "outputs": [],
   "source": [
    "# Time stamp is important!!!"
   ]
  },
  {
   "cell_type": "code",
   "execution_count": 28,
   "id": "499b90f1",
   "metadata": {},
   "outputs": [
    {
     "data": {
      "text/plain": [
       "[<matplotlib.lines.Line2D at 0x7f231779d9d0>]"
      ]
     },
     "execution_count": 28,
     "metadata": {},
     "output_type": "execute_result"
    },
    {
     "data": {
      "image/png": "[encoded data removed]",
      "text/plain": [
       "<Figure size 432x288 with 1 Axes>"
      ]
     },
     "metadata": {
      "needs_background": "light"
     },
     "output_type": "display_data"
    }
   ],
   "source": [
    "train[\"cut_timestamp\"] = pd.qcut(train[\"timestamp\"], q=100, labels=False)\n",
    "plt.plot(train.groupby(\"cut_timestamp\").mean()[\"engagement\"])"
   ]
  },
  {
   "cell_type": "code",
   "execution_count": 16,
   "id": "528bdc16",
   "metadata": {},
   "outputs": [],
   "source": [
    "author_data[\"cut_timestamp\"] = pd.qcut(author_data[\"timestamp\"], q=100, labels=False)"
   ]
  },
  {
   "cell_type": "code",
   "execution_count": 24,
   "id": "79668d60",
   "metadata": {},
   "outputs": [
    {
     "data": {
      "text/plain": [
       "[<matplotlib.lines.Line2D at 0x7f231783e370>]"
      ]
     },
     "execution_count": 24,
     "metadata": {},
     "output_type": "execute_result"
    },
    {
     "data": {
      "image/png": "[encoded data removed]",
      "text/plain": [
       "<Figure size 432x288 with 1 Axes>"
      ]
     },
     "metadata": {
      "needs_background": "light"
     },
     "output_type": "display_data"
    }
   ],
   "source": [
    "plt.plot(author_data.groupby(\"cut_timestamp\").mean()[\"engagement\"])\n",
    "#.plot(logy=True)"
   ]
  },
  {
   "cell_type": "code",
   "execution_count": 8,
   "id": "f7d90c0b",
   "metadata": {},
   "outputs": [
    {
     "data": {
      "text/plain": [
       "<matplotlib.collections.PathCollection at 0x7faea3a7ac70>"
      ]
     },
     "execution_count": 8,
     "metadata": {},
     "output_type": "execute_result"
    },
    {
     "data": {
      "image/png": "[encoded data removed]",
      "text/plain": [
       "<Figure size 432x288 with 1 Axes>"
      ]
     },
     "metadata": {
      "needs_background": "light"
     },
     "output_type": "display_data"
    }
   ],
   "source": [
    "plt.scatter(author_data.shared_url_count, author_data.engagement)"
   ]
  },
  {
   "cell_type": "code",
   "execution_count": 3,
   "id": "973822b5",
   "metadata": {},
   "outputs": [
    {
     "data": {
      "text/plain": [
       "count    8126.000000\n",
       "mean       77.513783\n",
       "std        32.908481\n",
       "min         1.000000\n",
       "25%        60.000000\n",
       "50%        97.000000\n",
       "75%        99.000000\n",
       "max       100.000000\n",
       "Name: engagement, dtype: float64"
      ]
     },
     "execution_count": 3,
     "metadata": {},
     "output_type": "execute_result"
    }
   ],
   "source": [
    "author_data.groupby(\"author\").count().engagement.describe()"
   ]
  },
  {
   "cell_type": "code",
   "execution_count": 12,
   "id": "488f5700",
   "metadata": {},
   "outputs": [
    {
     "data": {
      "text/plain": [
       "'bd20432d80dfe4825a7a106312bda52e'"
      ]
     },
     "execution_count": 12,
     "metadata": {},
     "output_type": "execute_result"
    }
   ],
   "source": [
    "sample_author = train[\"author\"].iloc[0]\n",
    "author_loc = author_data[author_data[\"author\"] == sample_author]\n",
    "sample_author"
   ]
  },
  {
   "cell_type": "code",
   "execution_count": 13,
   "id": "c089a21d",
   "metadata": {},
   "outputs": [
    {
     "data": {
      "text/html": [
       "<div>\n",
       "<style scoped>\n",
       "    .dataframe tbody tr th:only-of-type {\n",
       "        vertical-align: middle;\n",
       "    }\n",
       "\n",
       "    .dataframe tbody tr th {\n",
       "        vertical-align: top;\n",
       "    }\n",
       "\n",
       "    .dataframe thead th {\n",
       "        text-align: right;\n",
       "    }\n",
       "</style>\n",
       "<table border=\"1\" class=\"dataframe\">\n",
       "  <thead>\n",
       "    <tr style=\"text-align: right;\">\n",
       "      <th></th>\n",
       "      <th>engagement</th>\n",
       "      <th>timestamp</th>\n",
       "      <th>language</th>\n",
       "      <th>feature1</th>\n",
       "      <th>feature2</th>\n",
       "      <th>followers</th>\n",
       "      <th>author</th>\n",
       "      <th>word_count</th>\n",
       "      <th>shared_url_count</th>\n",
       "      <th>shared_url_domain</th>\n",
       "      <th>is_reply</th>\n",
       "      <th>is_retweet</th>\n",
       "      <th>contains_video</th>\n",
       "      <th>contains_image</th>\n",
       "    </tr>\n",
       "  </thead>\n",
       "  <tbody>\n",
       "    <tr>\n",
       "      <th>17658</th>\n",
       "      <td>8</td>\n",
       "      <td>1654378174254</td>\n",
       "      <td>en</td>\n",
       "      <td>100</td>\n",
       "      <td>0</td>\n",
       "      <td>652</td>\n",
       "      <td>bd20432d80dfe4825a7a106312bda52e</td>\n",
       "      <td>52</td>\n",
       "      <td>1</td>\n",
       "      <td>http://independent.co.uk/</td>\n",
       "      <td>True</td>\n",
       "      <td>False</td>\n",
       "      <td>False</td>\n",
       "      <td>False</td>\n",
       "    </tr>\n",
       "    <tr>\n",
       "      <th>39581</th>\n",
       "      <td>10</td>\n",
       "      <td>1654223425254</td>\n",
       "      <td>en</td>\n",
       "      <td>100</td>\n",
       "      <td>-5</td>\n",
       "      <td>650</td>\n",
       "      <td>bd20432d80dfe4825a7a106312bda52e</td>\n",
       "      <td>13</td>\n",
       "      <td>1</td>\n",
       "      <td>http://independent.co.uk/</td>\n",
       "      <td>True</td>\n",
       "      <td>False</td>\n",
       "      <td>False</td>\n",
       "      <td>False</td>\n",
       "    </tr>\n",
       "    <tr>\n",
       "      <th>54381</th>\n",
       "      <td>17</td>\n",
       "      <td>1654199136254</td>\n",
       "      <td>en</td>\n",
       "      <td>100</td>\n",
       "      <td>0</td>\n",
       "      <td>650</td>\n",
       "      <td>bd20432d80dfe4825a7a106312bda52e</td>\n",
       "      <td>33</td>\n",
       "      <td>1</td>\n",
       "      <td>http://independent.co.uk/</td>\n",
       "      <td>False</td>\n",
       "      <td>False</td>\n",
       "      <td>False</td>\n",
       "      <td>False</td>\n",
       "    </tr>\n",
       "    <tr>\n",
       "      <th>58096</th>\n",
       "      <td>8</td>\n",
       "      <td>1653984741254</td>\n",
       "      <td>en</td>\n",
       "      <td>100</td>\n",
       "      <td>-5</td>\n",
       "      <td>641</td>\n",
       "      <td>bd20432d80dfe4825a7a106312bda52e</td>\n",
       "      <td>36</td>\n",
       "      <td>1</td>\n",
       "      <td>http://independent.co.uk/</td>\n",
       "      <td>True</td>\n",
       "      <td>False</td>\n",
       "      <td>False</td>\n",
       "      <td>False</td>\n",
       "    </tr>\n",
       "    <tr>\n",
       "      <th>59699</th>\n",
       "      <td>11</td>\n",
       "      <td>1655007721254</td>\n",
       "      <td>en</td>\n",
       "      <td>100</td>\n",
       "      <td>5</td>\n",
       "      <td>675</td>\n",
       "      <td>bd20432d80dfe4825a7a106312bda52e</td>\n",
       "      <td>16</td>\n",
       "      <td>1</td>\n",
       "      <td>http://independent.co.uk/</td>\n",
       "      <td>True</td>\n",
       "      <td>False</td>\n",
       "      <td>False</td>\n",
       "      <td>False</td>\n",
       "    </tr>\n",
       "    <tr>\n",
       "      <th>...</th>\n",
       "      <td>...</td>\n",
       "      <td>...</td>\n",
       "      <td>...</td>\n",
       "      <td>...</td>\n",
       "      <td>...</td>\n",
       "      <td>...</td>\n",
       "      <td>...</td>\n",
       "      <td>...</td>\n",
       "      <td>...</td>\n",
       "      <td>...</td>\n",
       "      <td>...</td>\n",
       "      <td>...</td>\n",
       "      <td>...</td>\n",
       "      <td>...</td>\n",
       "    </tr>\n",
       "    <tr>\n",
       "      <th>592800</th>\n",
       "      <td>85</td>\n",
       "      <td>1654622600254</td>\n",
       "      <td>en</td>\n",
       "      <td>100</td>\n",
       "      <td>0</td>\n",
       "      <td>666</td>\n",
       "      <td>bd20432d80dfe4825a7a106312bda52e</td>\n",
       "      <td>37</td>\n",
       "      <td>1</td>\n",
       "      <td>http://independent.co.uk/</td>\n",
       "      <td>False</td>\n",
       "      <td>False</td>\n",
       "      <td>False</td>\n",
       "      <td>False</td>\n",
       "    </tr>\n",
       "    <tr>\n",
       "      <th>600089</th>\n",
       "      <td>16</td>\n",
       "      <td>1655437874254</td>\n",
       "      <td>en</td>\n",
       "      <td>100</td>\n",
       "      <td>-5</td>\n",
       "      <td>673</td>\n",
       "      <td>bd20432d80dfe4825a7a106312bda52e</td>\n",
       "      <td>33</td>\n",
       "      <td>1</td>\n",
       "      <td>http://independent.co.uk/</td>\n",
       "      <td>True</td>\n",
       "      <td>False</td>\n",
       "      <td>False</td>\n",
       "      <td>False</td>\n",
       "    </tr>\n",
       "    <tr>\n",
       "      <th>603200</th>\n",
       "      <td>17</td>\n",
       "      <td>1655144760254</td>\n",
       "      <td>en</td>\n",
       "      <td>100</td>\n",
       "      <td>-5</td>\n",
       "      <td>674</td>\n",
       "      <td>bd20432d80dfe4825a7a106312bda52e</td>\n",
       "      <td>21</td>\n",
       "      <td>1</td>\n",
       "      <td>http://independent.co.uk/</td>\n",
       "      <td>True</td>\n",
       "      <td>False</td>\n",
       "      <td>False</td>\n",
       "      <td>False</td>\n",
       "    </tr>\n",
       "    <tr>\n",
       "      <th>614394</th>\n",
       "      <td>10</td>\n",
       "      <td>1655633624254</td>\n",
       "      <td>en</td>\n",
       "      <td>100</td>\n",
       "      <td>0</td>\n",
       "      <td>680</td>\n",
       "      <td>bd20432d80dfe4825a7a106312bda52e</td>\n",
       "      <td>37</td>\n",
       "      <td>1</td>\n",
       "      <td>http://independent.co.uk/</td>\n",
       "      <td>False</td>\n",
       "      <td>False</td>\n",
       "      <td>False</td>\n",
       "      <td>False</td>\n",
       "    </tr>\n",
       "    <tr>\n",
       "      <th>626865</th>\n",
       "      <td>9</td>\n",
       "      <td>1655623156254</td>\n",
       "      <td>en</td>\n",
       "      <td>100</td>\n",
       "      <td>-5</td>\n",
       "      <td>679</td>\n",
       "      <td>bd20432d80dfe4825a7a106312bda52e</td>\n",
       "      <td>50</td>\n",
       "      <td>1</td>\n",
       "      <td>http://independent.co.uk/</td>\n",
       "      <td>True</td>\n",
       "      <td>False</td>\n",
       "      <td>False</td>\n",
       "      <td>False</td>\n",
       "    </tr>\n",
       "  </tbody>\n",
       "</table>\n",
       "<p>99 rows × 14 columns</p>\n",
       "</div>"
      ],
      "text/plain": [
       "        engagement      timestamp language  feature1  feature2  followers  \\\n",
       "17658            8  1654378174254       en       100         0        652   \n",
       "39581           10  1654223425254       en       100        -5        650   \n",
       "54381           17  1654199136254       en       100         0        650   \n",
       "58096            8  1653984741254       en       100        -5        641   \n",
       "59699           11  1655007721254       en       100         5        675   \n",
       "...            ...            ...      ...       ...       ...        ...   \n",
       "592800          85  1654622600254       en       100         0        666   \n",
       "600089          16  1655437874254       en       100        -5        673   \n",
       "603200          17  1655144760254       en       100        -5        674   \n",
       "614394          10  1655633624254       en       100         0        680   \n",
       "626865           9  1655623156254       en       100        -5        679   \n",
       "\n",
       "                                  author  word_count  shared_url_count  \\\n",
       "17658   bd20432d80dfe4825a7a106312bda52e          52                 1   \n",
       "39581   bd20432d80dfe4825a7a106312bda52e          13                 1   \n",
       "54381   bd20432d80dfe4825a7a106312bda52e          33                 1   \n",
       "58096   bd20432d80dfe4825a7a106312bda52e          36                 1   \n",
       "59699   bd20432d80dfe4825a7a106312bda52e          16                 1   \n",
       "...                                  ...         ...               ...   \n",
       "592800  bd20432d80dfe4825a7a106312bda52e          37                 1   \n",
       "600089  bd20432d80dfe4825a7a106312bda52e          33                 1   \n",
       "603200  bd20432d80dfe4825a7a106312bda52e          21                 1   \n",
       "614394  bd20432d80dfe4825a7a106312bda52e          37                 1   \n",
       "626865  bd20432d80dfe4825a7a106312bda52e          50                 1   \n",
       "\n",
       "                shared_url_domain  is_reply  is_retweet  contains_video  \\\n",
       "17658   http://independent.co.uk/      True       False           False   \n",
       "39581   http://independent.co.uk/      True       False           False   \n",
       "54381   http://independent.co.uk/     False       False           False   \n",
       "58096   http://independent.co.uk/      True       False           False   \n",
       "59699   http://independent.co.uk/      True       False           False   \n",
       "...                           ...       ...         ...             ...   \n",
       "592800  http://independent.co.uk/     False       False           False   \n",
       "600089  http://independent.co.uk/      True       False           False   \n",
       "603200  http://independent.co.uk/      True       False           False   \n",
       "614394  http://independent.co.uk/     False       False           False   \n",
       "626865  http://independent.co.uk/      True       False           False   \n",
       "\n",
       "        contains_image  \n",
       "17658            False  \n",
       "39581            False  \n",
       "54381            False  \n",
       "58096            False  \n",
       "59699            False  \n",
       "...                ...  \n",
       "592800           False  \n",
       "600089           False  \n",
       "603200           False  \n",
       "614394           False  \n",
       "626865           False  \n",
       "\n",
       "[99 rows x 14 columns]"
      ]
     },
     "execution_count": 13,
     "metadata": {},
     "output_type": "execute_result"
    }
   ],
   "source": [
    "author_loc"
   ]
  },
  {
   "cell_type": "code",
   "execution_count": 47,
   "id": "4825bdd4",
   "metadata": {},
   "outputs": [
    {
     "data": {
      "text/html": [
       "<div>\n",
       "<style scoped>\n",
       "    .dataframe tbody tr th:only-of-type {\n",
       "        vertical-align: middle;\n",
       "    }\n",
       "\n",
       "    .dataframe tbody tr th {\n",
       "        vertical-align: top;\n",
       "    }\n",
       "\n",
       "    .dataframe thead th {\n",
       "        text-align: right;\n",
       "    }\n",
       "</style>\n",
       "<table border=\"1\" class=\"dataframe\">\n",
       "  <thead>\n",
       "    <tr style=\"text-align: right;\">\n",
       "      <th></th>\n",
       "      <th>engagement</th>\n",
       "      <th>timestamp</th>\n",
       "      <th>language</th>\n",
       "      <th>feature1</th>\n",
       "      <th>feature2</th>\n",
       "      <th>followers</th>\n",
       "      <th>author</th>\n",
       "      <th>word_count</th>\n",
       "      <th>shared_url_count</th>\n",
       "      <th>shared_url_domain</th>\n",
       "      <th>...</th>\n",
       "      <th>V1015</th>\n",
       "      <th>V1016</th>\n",
       "      <th>V1017</th>\n",
       "      <th>V1018</th>\n",
       "      <th>V1019</th>\n",
       "      <th>V1020</th>\n",
       "      <th>V1021</th>\n",
       "      <th>V1022</th>\n",
       "      <th>V1023</th>\n",
       "      <th>V1024</th>\n",
       "    </tr>\n",
       "  </thead>\n",
       "  <tbody>\n",
       "    <tr>\n",
       "      <th>0</th>\n",
       "      <td>15</td>\n",
       "      <td>1655784230254</td>\n",
       "      <td>en</td>\n",
       "      <td>73</td>\n",
       "      <td>0</td>\n",
       "      <td>696</td>\n",
       "      <td>bd20432d80dfe4825a7a106312bda52e</td>\n",
       "      <td>18</td>\n",
       "      <td>0</td>\n",
       "      <td>NaN</td>\n",
       "      <td>...</td>\n",
       "      <td>0.066302</td>\n",
       "      <td>-0.002309</td>\n",
       "      <td>0.006296</td>\n",
       "      <td>-0.003366</td>\n",
       "      <td>0.055845</td>\n",
       "      <td>0.002813</td>\n",
       "      <td>0.03093</td>\n",
       "      <td>0.040009</td>\n",
       "      <td>0.017094</td>\n",
       "      <td>0.047829</td>\n",
       "    </tr>\n",
       "  </tbody>\n",
       "</table>\n",
       "<p>1 rows × 1038 columns</p>\n",
       "</div>"
      ],
      "text/plain": [
       "   engagement      timestamp language  feature1  feature2  followers  \\\n",
       "0          15  1655784230254       en        73         0        696   \n",
       "\n",
       "                             author  word_count  shared_url_count  \\\n",
       "0  bd20432d80dfe4825a7a106312bda52e          18                 0   \n",
       "\n",
       "  shared_url_domain  ...     V1015     V1016     V1017     V1018     V1019  \\\n",
       "0               NaN  ...  0.066302 -0.002309  0.006296 -0.003366  0.055845   \n",
       "\n",
       "      V1020    V1021     V1022     V1023     V1024  \n",
       "0  0.002813  0.03093  0.040009  0.017094  0.047829  \n",
       "\n",
       "[1 rows x 1038 columns]"
      ]
     },
     "execution_count": 47,
     "metadata": {},
     "output_type": "execute_result"
    }
   ],
   "source": [
    "train[train[\"author\"] == sample_author]"
   ]
  },
  {
   "cell_type": "markdown",
   "id": "524180f9",
   "metadata": {},
   "source": [
    "#### Engagements in author_data."
   ]
  },
  {
   "cell_type": "code",
   "execution_count": 46,
   "id": "84cad881",
   "metadata": {},
   "outputs": [
    {
     "data": {
      "text/plain": [
       "count     99.000000\n",
       "mean      29.969697\n",
       "std       71.762428\n",
       "min        6.000000\n",
       "25%        8.000000\n",
       "50%       14.000000\n",
       "75%       25.500000\n",
       "max      629.000000\n",
       "Name: engagement, dtype: float64"
      ]
     },
     "execution_count": 46,
     "metadata": {},
     "output_type": "execute_result"
    }
   ],
   "source": [
    "i = 0\n",
    "author_loc[features_author[i]].describe()"
   ]
  },
  {
   "cell_type": "markdown",
   "id": "e60eb782",
   "metadata": {},
   "source": [
    "We saw that the mean is not far from the label data. Perhaps a good feature"
   ]
  },
  {
   "cell_type": "markdown",
   "id": "24db426e",
   "metadata": {},
   "source": [
    "#### Language"
   ]
  },
  {
   "cell_type": "code",
   "execution_count": 22,
   "id": "25e02c0f",
   "metadata": {},
   "outputs": [
    {
     "data": {
      "text/plain": [
       "en    0.936227\n",
       "ja    0.009557\n",
       "es    0.008281\n",
       "pt    0.007908\n",
       "id    0.005803\n",
       "        ...   \n",
       "ne    0.000002\n",
       "my    0.000002\n",
       "an    0.000002\n",
       "vo    0.000002\n",
       "mg    0.000002\n",
       "Name: language, Length: 103, dtype: float64"
      ]
     },
     "execution_count": 22,
     "metadata": {},
     "output_type": "execute_result"
    }
   ],
   "source": [
    "i = 2\n",
    "author_data[features_author[i]].value_counts(normalize=True)"
   ]
  },
  {
   "cell_type": "markdown",
   "id": "fed5206d",
   "metadata": {},
   "source": [
    "For the language feature, it turns out that there are so many \"en\" and there might be a overfitting for the rest of data."
   ]
  },
  {
   "cell_type": "code",
   "execution_count": 48,
   "id": "5bd9ae95",
   "metadata": {},
   "outputs": [
    {
     "data": {
      "text/plain": [
       "engagement    16805.666667\n",
       "dtype: float64"
      ]
     },
     "execution_count": 48,
     "metadata": {},
     "output_type": "execute_result"
    }
   ],
   "source": [
    "author_data.groupby(\"language\").agg({label : \"mean\"}).max()#.corr()"
   ]
  },
  {
   "cell_type": "code",
   "execution_count": 49,
   "id": "eb131d12",
   "metadata": {},
   "outputs": [
    {
     "data": {
      "text/html": [
       "<div>\n",
       "<style scoped>\n",
       "    .dataframe tbody tr th:only-of-type {\n",
       "        vertical-align: middle;\n",
       "    }\n",
       "\n",
       "    .dataframe tbody tr th {\n",
       "        vertical-align: top;\n",
       "    }\n",
       "\n",
       "    .dataframe thead th {\n",
       "        text-align: right;\n",
       "    }\n",
       "</style>\n",
       "<table border=\"1\" class=\"dataframe\">\n",
       "  <thead>\n",
       "    <tr style=\"text-align: right;\">\n",
       "      <th></th>\n",
       "      <th>engagement</th>\n",
       "      <th>timestamp</th>\n",
       "      <th>language</th>\n",
       "      <th>feature1</th>\n",
       "      <th>feature2</th>\n",
       "      <th>followers</th>\n",
       "      <th>author</th>\n",
       "      <th>word_count</th>\n",
       "      <th>shared_url_count</th>\n",
       "      <th>shared_url_domain</th>\n",
       "      <th>is_reply</th>\n",
       "      <th>is_retweet</th>\n",
       "      <th>contains_video</th>\n",
       "      <th>contains_image</th>\n",
       "    </tr>\n",
       "  </thead>\n",
       "  <tbody>\n",
       "    <tr>\n",
       "      <th>129487</th>\n",
       "      <td>0</td>\n",
       "      <td>1655644338254</td>\n",
       "      <td>pa</td>\n",
       "      <td>100</td>\n",
       "      <td>0</td>\n",
       "      <td>249</td>\n",
       "      <td>1a43f9c65c1722681b2379fab82202af</td>\n",
       "      <td>3</td>\n",
       "      <td>0</td>\n",
       "      <td>NaN</td>\n",
       "      <td>True</td>\n",
       "      <td>False</td>\n",
       "      <td>False</td>\n",
       "      <td>False</td>\n",
       "    </tr>\n",
       "    <tr>\n",
       "      <th>496891</th>\n",
       "      <td>50417</td>\n",
       "      <td>1653849741254</td>\n",
       "      <td>pa</td>\n",
       "      <td>100</td>\n",
       "      <td>0</td>\n",
       "      <td>50266014</td>\n",
       "      <td>18b7595935a34f3eae034c1d4b0ed310</td>\n",
       "      <td>28</td>\n",
       "      <td>0</td>\n",
       "      <td>NaN</td>\n",
       "      <td>False</td>\n",
       "      <td>False</td>\n",
       "      <td>False</td>\n",
       "      <td>True</td>\n",
       "    </tr>\n",
       "    <tr>\n",
       "      <th>512848</th>\n",
       "      <td>0</td>\n",
       "      <td>1655647995254</td>\n",
       "      <td>pa</td>\n",
       "      <td>100</td>\n",
       "      <td>0</td>\n",
       "      <td>447</td>\n",
       "      <td>9a73bd07722bf3d483bb8df4474dad4d</td>\n",
       "      <td>2</td>\n",
       "      <td>0</td>\n",
       "      <td>NaN</td>\n",
       "      <td>True</td>\n",
       "      <td>False</td>\n",
       "      <td>False</td>\n",
       "      <td>False</td>\n",
       "    </tr>\n",
       "  </tbody>\n",
       "</table>\n",
       "</div>"
      ],
      "text/plain": [
       "        engagement      timestamp language  feature1  feature2  followers  \\\n",
       "129487           0  1655644338254       pa       100         0        249   \n",
       "496891       50417  1653849741254       pa       100         0   50266014   \n",
       "512848           0  1655647995254       pa       100         0        447   \n",
       "\n",
       "                                  author  word_count  shared_url_count  \\\n",
       "129487  1a43f9c65c1722681b2379fab82202af           3                 0   \n",
       "496891  18b7595935a34f3eae034c1d4b0ed310          28                 0   \n",
       "512848  9a73bd07722bf3d483bb8df4474dad4d           2                 0   \n",
       "\n",
       "       shared_url_domain  is_reply  is_retweet  contains_video  contains_image  \n",
       "129487               NaN      True       False           False           False  \n",
       "496891               NaN     False       False           False            True  \n",
       "512848               NaN      True       False           False           False  "
      ]
     },
     "execution_count": 49,
     "metadata": {},
     "output_type": "execute_result"
    }
   ],
   "source": [
    "#author_data.groupby(\"language\").agg({label : \"mean\"})\n",
    "author_data[author_data[\"language\"] == \"pa\"]"
   ]
  },
  {
   "cell_type": "markdown",
   "id": "cc5664df",
   "metadata": {},
   "source": [
    "A typical overfitting. In this case, [language == \"pa\"] will biased the rest 0-valued engagements."
   ]
  },
  {
   "cell_type": "markdown",
   "id": "ab037888",
   "metadata": {},
   "source": [
    "#### Feature1"
   ]
  },
  {
   "cell_type": "code",
   "execution_count": 51,
   "id": "88e622b7",
   "metadata": {},
   "outputs": [
    {
     "data": {
      "text/plain": [
       "count    629877.000000\n",
       "mean         65.995596\n",
       "std          38.965414\n",
       "min           0.000000\n",
       "25%          29.000000\n",
       "50%          88.000000\n",
       "75%         100.000000\n",
       "max         100.000000\n",
       "Name: feature1, dtype: float64"
      ]
     },
     "execution_count": 51,
     "metadata": {},
     "output_type": "execute_result"
    }
   ],
   "source": [
    "i = 3\n",
    "author_data[features_author[i]].describe()"
   ]
  },
  {
   "cell_type": "markdown",
   "id": "7d37daaa",
   "metadata": {},
   "source": [
    "Feature1 is a value from 0 to 100. Is there any correlation?"
   ]
  },
  {
   "cell_type": "code",
   "execution_count": 53,
   "id": "8ae8af0e",
   "metadata": {},
   "outputs": [
    {
     "data": {
      "text/html": [
       "<div>\n",
       "<style scoped>\n",
       "    .dataframe tbody tr th:only-of-type {\n",
       "        vertical-align: middle;\n",
       "    }\n",
       "\n",
       "    .dataframe tbody tr th {\n",
       "        vertical-align: top;\n",
       "    }\n",
       "\n",
       "    .dataframe thead th {\n",
       "        text-align: right;\n",
       "    }\n",
       "</style>\n",
       "<table border=\"1\" class=\"dataframe\">\n",
       "  <thead>\n",
       "    <tr style=\"text-align: right;\">\n",
       "      <th></th>\n",
       "      <th>engagement</th>\n",
       "      <th>feature1</th>\n",
       "    </tr>\n",
       "  </thead>\n",
       "  <tbody>\n",
       "    <tr>\n",
       "      <th>engagement</th>\n",
       "      <td>1.000000</td>\n",
       "      <td>-0.003794</td>\n",
       "    </tr>\n",
       "    <tr>\n",
       "      <th>feature1</th>\n",
       "      <td>-0.003794</td>\n",
       "      <td>1.000000</td>\n",
       "    </tr>\n",
       "  </tbody>\n",
       "</table>\n",
       "</div>"
      ],
      "text/plain": [
       "            engagement  feature1\n",
       "engagement    1.000000 -0.003794\n",
       "feature1     -0.003794  1.000000"
      ]
     },
     "execution_count": 53,
     "metadata": {},
     "output_type": "execute_result"
    }
   ],
   "source": [
    "author_data[[label, features_author[i]]].corr()"
   ]
  },
  {
   "cell_type": "markdown",
   "id": "8cd5b07d",
   "metadata": {},
   "source": [
    "No"
   ]
  },
  {
   "cell_type": "markdown",
   "id": "1924fa3b",
   "metadata": {},
   "source": [
    "#### Feature2"
   ]
  },
  {
   "cell_type": "code",
   "execution_count": 57,
   "id": "78321b39",
   "metadata": {},
   "outputs": [
    {
     "data": {
      "text/plain": [
       "count    629877.000000\n",
       "mean         -0.324936\n",
       "std           3.454138\n",
       "min          -5.000000\n",
       "25%          -5.000000\n",
       "50%           0.000000\n",
       "75%           0.000000\n",
       "max           5.000000\n",
       "Name: feature2, dtype: float64"
      ]
     },
     "execution_count": 57,
     "metadata": {},
     "output_type": "execute_result"
    }
   ],
   "source": [
    "i = 4\n",
    "author_data[features_author[i]].describe()"
   ]
  },
  {
   "cell_type": "markdown",
   "id": "d0face54",
   "metadata": {},
   "source": [
    "Feature2 is a value from -5 to 5. Is there any correlation?"
   ]
  },
  {
   "cell_type": "code",
   "execution_count": 58,
   "id": "bc4d9145",
   "metadata": {},
   "outputs": [
    {
     "data": {
      "text/html": [
       "<div>\n",
       "<style scoped>\n",
       "    .dataframe tbody tr th:only-of-type {\n",
       "        vertical-align: middle;\n",
       "    }\n",
       "\n",
       "    .dataframe tbody tr th {\n",
       "        vertical-align: top;\n",
       "    }\n",
       "\n",
       "    .dataframe thead th {\n",
       "        text-align: right;\n",
       "    }\n",
       "</style>\n",
       "<table border=\"1\" class=\"dataframe\">\n",
       "  <thead>\n",
       "    <tr style=\"text-align: right;\">\n",
       "      <th></th>\n",
       "      <th>engagement</th>\n",
       "      <th>feature2</th>\n",
       "    </tr>\n",
       "  </thead>\n",
       "  <tbody>\n",
       "    <tr>\n",
       "      <th>engagement</th>\n",
       "      <td>1.000000</td>\n",
       "      <td>-0.007886</td>\n",
       "    </tr>\n",
       "    <tr>\n",
       "      <th>feature2</th>\n",
       "      <td>-0.007886</td>\n",
       "      <td>1.000000</td>\n",
       "    </tr>\n",
       "  </tbody>\n",
       "</table>\n",
       "</div>"
      ],
      "text/plain": [
       "            engagement  feature2\n",
       "engagement    1.000000 -0.007886\n",
       "feature2     -0.007886  1.000000"
      ]
     },
     "execution_count": 58,
     "metadata": {},
     "output_type": "execute_result"
    }
   ],
   "source": [
    "author_data[[label, features_author[i]]].corr()"
   ]
  },
  {
   "cell_type": "markdown",
   "id": "52e8fad5",
   "metadata": {},
   "source": [
    "No, neither"
   ]
  },
  {
   "cell_type": "markdown",
   "id": "95d0f592",
   "metadata": {},
   "source": [
    "#### Followers"
   ]
  },
  {
   "cell_type": "code",
   "execution_count": 60,
   "id": "d122b77e",
   "metadata": {},
   "outputs": [
    {
     "data": {
      "text/plain": [
       "<matplotlib.axes._subplots.AxesSubplot at 0x7f83c40501d0>"
      ]
     },
     "execution_count": 60,
     "metadata": {},
     "output_type": "execute_result"
    },
    {
     "data": {
      "image/png": "[encoded data removed]",
      "text/plain": [
       "<Figure size 432x288 with 1 Axes>"
      ]
     },
     "metadata": {
      "needs_background": "light"
     },
     "output_type": "display_data"
    }
   ],
   "source": [
    "i = 5\n",
    "author_data[features_author[i]].hist()"
   ]
  },
  {
   "cell_type": "markdown",
   "id": "e88dc2a2",
   "metadata": {},
   "source": [
    "We have some outliers for the number of the followers"
   ]
  },
  {
   "cell_type": "code",
   "execution_count": 64,
   "id": "ecf4cb60",
   "metadata": {},
   "outputs": [
    {
     "data": {
      "text/plain": [
       "<matplotlib.axes._subplots.AxesSubplot at 0x7f83bc8fecc0>"
      ]
     },
     "execution_count": 64,
     "metadata": {},
     "output_type": "execute_result"
    },
    {
     "data": {
      "image/png": "[encoded data removed]",
      "text/plain": [
       "<Figure size 432x288 with 1 Axes>"
      ]
     },
     "metadata": {
      "needs_background": "light"
     },
     "output_type": "display_data"
    }
   ],
   "source": [
    "i=5\n",
    "author_data[[label, features_author[i]]].plot(x=label)"
   ]
  },
  {
   "cell_type": "code",
   "execution_count": 75,
   "id": "d6da26c5",
   "metadata": {},
   "outputs": [
    {
     "data": {
      "text/html": [
       "<div>\n",
       "<style scoped>\n",
       "    .dataframe tbody tr th:only-of-type {\n",
       "        vertical-align: middle;\n",
       "    }\n",
       "\n",
       "    .dataframe tbody tr th {\n",
       "        vertical-align: top;\n",
       "    }\n",
       "\n",
       "    .dataframe thead th {\n",
       "        text-align: right;\n",
       "    }\n",
       "</style>\n",
       "<table border=\"1\" class=\"dataframe\">\n",
       "  <thead>\n",
       "    <tr style=\"text-align: right;\">\n",
       "      <th></th>\n",
       "      <th>engagement</th>\n",
       "      <th>followers</th>\n",
       "    </tr>\n",
       "  </thead>\n",
       "  <tbody>\n",
       "    <tr>\n",
       "      <th>engagement</th>\n",
       "      <td>1.000000</td>\n",
       "      <td>0.191313</td>\n",
       "    </tr>\n",
       "    <tr>\n",
       "      <th>followers</th>\n",
       "      <td>0.191313</td>\n",
       "      <td>1.000000</td>\n",
       "    </tr>\n",
       "  </tbody>\n",
       "</table>\n",
       "</div>"
      ],
      "text/plain": [
       "            engagement  followers\n",
       "engagement    1.000000   0.191313\n",
       "followers     0.191313   1.000000"
      ]
     },
     "execution_count": 75,
     "metadata": {},
     "output_type": "execute_result"
    }
   ],
   "source": [
    "author_data[[label, \"followers\"]].corr()"
   ]
  },
  {
   "cell_type": "markdown",
   "id": "61a415eb",
   "metadata": {},
   "source": [
    "We are gonna cut the number of followers by the quantile among all and then compared it to our label."
   ]
  },
  {
   "cell_type": "code",
   "execution_count": 93,
   "id": "5cc5bb0a",
   "metadata": {},
   "outputs": [
    {
     "name": "stdout",
     "output_type": "stream",
     "text": [
      "100 0.16261595132513765\n"
     ]
    }
   ],
   "source": [
    "q = 100\n",
    "print(q, \n",
    "      pd.concat([author_data.engagement, pd.qcut(author_data[\"followers\"], \n",
    "                                                 q=q, \n",
    "                                                 labels=False)\n",
    "                ], \n",
    "                axis=1, \n",
    "               ).corr().iloc[0, 1])"
   ]
  },
  {
   "cell_type": "markdown",
   "id": "24aa2bec",
   "metadata": {},
   "source": [
    "With quantile, we might have less correlation but we can neglect the outliers."
   ]
  },
  {
   "cell_type": "code",
   "execution_count": 63,
   "id": "b7a048fe",
   "metadata": {},
   "outputs": [
    {
     "data": {
      "text/html": [
       "<div>\n",
       "<style scoped>\n",
       "    .dataframe tbody tr th:only-of-type {\n",
       "        vertical-align: middle;\n",
       "    }\n",
       "\n",
       "    .dataframe tbody tr th {\n",
       "        vertical-align: top;\n",
       "    }\n",
       "\n",
       "    .dataframe thead th {\n",
       "        text-align: right;\n",
       "    }\n",
       "</style>\n",
       "<table border=\"1\" class=\"dataframe\">\n",
       "  <thead>\n",
       "    <tr style=\"text-align: right;\">\n",
       "      <th></th>\n",
       "      <th>engagement</th>\n",
       "      <th>timestamp</th>\n",
       "      <th>language</th>\n",
       "      <th>feature1</th>\n",
       "      <th>feature2</th>\n",
       "      <th>followers</th>\n",
       "      <th>author</th>\n",
       "      <th>word_count</th>\n",
       "      <th>shared_url_count</th>\n",
       "      <th>shared_url_domain</th>\n",
       "      <th>is_reply</th>\n",
       "      <th>is_retweet</th>\n",
       "      <th>contains_video</th>\n",
       "      <th>contains_image</th>\n",
       "    </tr>\n",
       "  </thead>\n",
       "  <tbody>\n",
       "    <tr>\n",
       "      <th>0</th>\n",
       "      <td>0</td>\n",
       "      <td>1655713481254</td>\n",
       "      <td>en</td>\n",
       "      <td>100</td>\n",
       "      <td>0</td>\n",
       "      <td>999</td>\n",
       "      <td>d2e03f4b7a57a6828392a80b6d8667c3</td>\n",
       "      <td>25</td>\n",
       "      <td>0</td>\n",
       "      <td>NaN</td>\n",
       "      <td>False</td>\n",
       "      <td>True</td>\n",
       "      <td>True</td>\n",
       "      <td>False</td>\n",
       "    </tr>\n",
       "    <tr>\n",
       "      <th>1</th>\n",
       "      <td>0</td>\n",
       "      <td>1655743160254</td>\n",
       "      <td>en</td>\n",
       "      <td>100</td>\n",
       "      <td>-5</td>\n",
       "      <td>5</td>\n",
       "      <td>5622c71671e9b0ab9052fd574876b46d</td>\n",
       "      <td>9</td>\n",
       "      <td>0</td>\n",
       "      <td>NaN</td>\n",
       "      <td>False</td>\n",
       "      <td>False</td>\n",
       "      <td>False</td>\n",
       "      <td>False</td>\n",
       "    </tr>\n",
       "    <tr>\n",
       "      <th>2</th>\n",
       "      <td>3486</td>\n",
       "      <td>1655395750254</td>\n",
       "      <td>en</td>\n",
       "      <td>100</td>\n",
       "      <td>-5</td>\n",
       "      <td>454592</td>\n",
       "      <td>9b72b401edaf6aec6603856a3a6fb050</td>\n",
       "      <td>45</td>\n",
       "      <td>0</td>\n",
       "      <td>NaN</td>\n",
       "      <td>False</td>\n",
       "      <td>False</td>\n",
       "      <td>False</td>\n",
       "      <td>False</td>\n",
       "    </tr>\n",
       "    <tr>\n",
       "      <th>3</th>\n",
       "      <td>7</td>\n",
       "      <td>1654621088254</td>\n",
       "      <td>ar</td>\n",
       "      <td>100</td>\n",
       "      <td>5</td>\n",
       "      <td>19348</td>\n",
       "      <td>dc3d6148b435c40a4e75e7d6b5bd22c9</td>\n",
       "      <td>10</td>\n",
       "      <td>0</td>\n",
       "      <td>NaN</td>\n",
       "      <td>False</td>\n",
       "      <td>False</td>\n",
       "      <td>False</td>\n",
       "      <td>False</td>\n",
       "    </tr>\n",
       "    <tr>\n",
       "      <th>4</th>\n",
       "      <td>0</td>\n",
       "      <td>1655754531254</td>\n",
       "      <td>en</td>\n",
       "      <td>45</td>\n",
       "      <td>-5</td>\n",
       "      <td>973</td>\n",
       "      <td>0e47c55a7918dd9130da37a80e46a2e0</td>\n",
       "      <td>14</td>\n",
       "      <td>0</td>\n",
       "      <td>NaN</td>\n",
       "      <td>False</td>\n",
       "      <td>True</td>\n",
       "      <td>False</td>\n",
       "      <td>True</td>\n",
       "    </tr>\n",
       "    <tr>\n",
       "      <th>...</th>\n",
       "      <td>...</td>\n",
       "      <td>...</td>\n",
       "      <td>...</td>\n",
       "      <td>...</td>\n",
       "      <td>...</td>\n",
       "      <td>...</td>\n",
       "      <td>...</td>\n",
       "      <td>...</td>\n",
       "      <td>...</td>\n",
       "      <td>...</td>\n",
       "      <td>...</td>\n",
       "      <td>...</td>\n",
       "      <td>...</td>\n",
       "      <td>...</td>\n",
       "    </tr>\n",
       "    <tr>\n",
       "      <th>629872</th>\n",
       "      <td>479</td>\n",
       "      <td>1655694387254</td>\n",
       "      <td>en</td>\n",
       "      <td>100</td>\n",
       "      <td>0</td>\n",
       "      <td>129015</td>\n",
       "      <td>b0727df747f870315a651ce8864023a1</td>\n",
       "      <td>23</td>\n",
       "      <td>0</td>\n",
       "      <td>NaN</td>\n",
       "      <td>False</td>\n",
       "      <td>False</td>\n",
       "      <td>False</td>\n",
       "      <td>False</td>\n",
       "    </tr>\n",
       "    <tr>\n",
       "      <th>629873</th>\n",
       "      <td>161</td>\n",
       "      <td>1653691877254</td>\n",
       "      <td>en</td>\n",
       "      <td>4</td>\n",
       "      <td>0</td>\n",
       "      <td>27467</td>\n",
       "      <td>be2260a0684d01ec8567f73ef9650277</td>\n",
       "      <td>11</td>\n",
       "      <td>0</td>\n",
       "      <td>NaN</td>\n",
       "      <td>False</td>\n",
       "      <td>False</td>\n",
       "      <td>True</td>\n",
       "      <td>False</td>\n",
       "    </tr>\n",
       "    <tr>\n",
       "      <th>629874</th>\n",
       "      <td>0</td>\n",
       "      <td>1655766485254</td>\n",
       "      <td>en</td>\n",
       "      <td>94</td>\n",
       "      <td>5</td>\n",
       "      <td>401</td>\n",
       "      <td>012777f856a2162bb318ae7c15e2d280</td>\n",
       "      <td>19</td>\n",
       "      <td>0</td>\n",
       "      <td>NaN</td>\n",
       "      <td>False</td>\n",
       "      <td>True</td>\n",
       "      <td>False</td>\n",
       "      <td>False</td>\n",
       "    </tr>\n",
       "    <tr>\n",
       "      <th>629875</th>\n",
       "      <td>0</td>\n",
       "      <td>1655618304254</td>\n",
       "      <td>en</td>\n",
       "      <td>35</td>\n",
       "      <td>0</td>\n",
       "      <td>305008</td>\n",
       "      <td>5fd84f30702e9d0ab236e44a8328ae30</td>\n",
       "      <td>18</td>\n",
       "      <td>0</td>\n",
       "      <td>NaN</td>\n",
       "      <td>False</td>\n",
       "      <td>True</td>\n",
       "      <td>False</td>\n",
       "      <td>False</td>\n",
       "    </tr>\n",
       "    <tr>\n",
       "      <th>629876</th>\n",
       "      <td>267</td>\n",
       "      <td>1655186811254</td>\n",
       "      <td>en</td>\n",
       "      <td>0</td>\n",
       "      <td>0</td>\n",
       "      <td>9389</td>\n",
       "      <td>6b9c65ed1c96e11eea552744e09da897</td>\n",
       "      <td>1</td>\n",
       "      <td>0</td>\n",
       "      <td>NaN</td>\n",
       "      <td>False</td>\n",
       "      <td>False</td>\n",
       "      <td>False</td>\n",
       "      <td>True</td>\n",
       "    </tr>\n",
       "  </tbody>\n",
       "</table>\n",
       "<p>629877 rows × 14 columns</p>\n",
       "</div>"
      ],
      "text/plain": [
       "        engagement      timestamp language  feature1  feature2  followers  \\\n",
       "0                0  1655713481254       en       100         0        999   \n",
       "1                0  1655743160254       en       100        -5          5   \n",
       "2             3486  1655395750254       en       100        -5     454592   \n",
       "3                7  1654621088254       ar       100         5      19348   \n",
       "4                0  1655754531254       en        45        -5        973   \n",
       "...            ...            ...      ...       ...       ...        ...   \n",
       "629872         479  1655694387254       en       100         0     129015   \n",
       "629873         161  1653691877254       en         4         0      27467   \n",
       "629874           0  1655766485254       en        94         5        401   \n",
       "629875           0  1655618304254       en        35         0     305008   \n",
       "629876         267  1655186811254       en         0         0       9389   \n",
       "\n",
       "                                  author  word_count  shared_url_count  \\\n",
       "0       d2e03f4b7a57a6828392a80b6d8667c3          25                 0   \n",
       "1       5622c71671e9b0ab9052fd574876b46d           9                 0   \n",
       "2       9b72b401edaf6aec6603856a3a6fb050          45                 0   \n",
       "3       dc3d6148b435c40a4e75e7d6b5bd22c9          10                 0   \n",
       "4       0e47c55a7918dd9130da37a80e46a2e0          14                 0   \n",
       "...                                  ...         ...               ...   \n",
       "629872  b0727df747f870315a651ce8864023a1          23                 0   \n",
       "629873  be2260a0684d01ec8567f73ef9650277          11                 0   \n",
       "629874  012777f856a2162bb318ae7c15e2d280          19                 0   \n",
       "629875  5fd84f30702e9d0ab236e44a8328ae30          18                 0   \n",
       "629876  6b9c65ed1c96e11eea552744e09da897           1                 0   \n",
       "\n",
       "       shared_url_domain  is_reply  is_retweet  contains_video  contains_image  \n",
       "0                    NaN     False        True            True           False  \n",
       "1                    NaN     False       False           False           False  \n",
       "2                    NaN     False       False           False           False  \n",
       "3                    NaN     False       False           False           False  \n",
       "4                    NaN     False        True           False            True  \n",
       "...                  ...       ...         ...             ...             ...  \n",
       "629872               NaN     False       False           False           False  \n",
       "629873               NaN     False       False            True           False  \n",
       "629874               NaN     False        True           False           False  \n",
       "629875               NaN     False        True           False           False  \n",
       "629876               NaN     False       False           False            True  \n",
       "\n",
       "[629877 rows x 14 columns]"
      ]
     },
     "execution_count": 63,
     "metadata": {},
     "output_type": "execute_result"
    }
   ],
   "source": [
    "author_data"
   ]
  },
  {
   "cell_type": "markdown",
   "id": "f45db722",
   "metadata": {},
   "source": [
    "\n",
    "\n",
    "#### Word_count"
   ]
  },
  {
   "cell_type": "code",
   "execution_count": 94,
   "id": "bc574be8",
   "metadata": {},
   "outputs": [
    {
     "data": {
      "text/html": [
       "<div>\n",
       "<style scoped>\n",
       "    .dataframe tbody tr th:only-of-type {\n",
       "        vertical-align: middle;\n",
       "    }\n",
       "\n",
       "    .dataframe tbody tr th {\n",
       "        vertical-align: top;\n",
       "    }\n",
       "\n",
       "    .dataframe thead th {\n",
       "        text-align: right;\n",
       "    }\n",
       "</style>\n",
       "<table border=\"1\" class=\"dataframe\">\n",
       "  <thead>\n",
       "    <tr style=\"text-align: right;\">\n",
       "      <th></th>\n",
       "      <th>engagement</th>\n",
       "      <th>word_count</th>\n",
       "    </tr>\n",
       "  </thead>\n",
       "  <tbody>\n",
       "    <tr>\n",
       "      <th>engagement</th>\n",
       "      <td>1.000000</td>\n",
       "      <td>0.006949</td>\n",
       "    </tr>\n",
       "    <tr>\n",
       "      <th>word_count</th>\n",
       "      <td>0.006949</td>\n",
       "      <td>1.000000</td>\n",
       "    </tr>\n",
       "  </tbody>\n",
       "</table>\n",
       "</div>"
      ],
      "text/plain": [
       "            engagement  word_count\n",
       "engagement    1.000000    0.006949\n",
       "word_count    0.006949    1.000000"
      ]
     },
     "execution_count": 94,
     "metadata": {},
     "output_type": "execute_result"
    }
   ],
   "source": [
    "author_data[[label, \"word_count\"]].corr()"
   ]
  }
 ],
 "metadata": {
  "kernelspec": {
   "display_name": "Python 3",
   "language": "python",
   "name": "python3"
  },
  "language_info": {
   "codemirror_mode": {
    "name": "ipython",
    "version": 3
   },
   "file_extension": ".py",
   "mimetype": "text/x-python",
   "name": "python",
   "nbconvert_exporter": "python",
   "pygments_lexer": "ipython3",
   "version": "3.9.7"
  }
 },
 "nbformat": 4,
 "nbformat_minor": 5
}
