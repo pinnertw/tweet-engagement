{
 "cells": [
  {
   "cell_type": "code",
   "execution_count": 1,
   "id": "7770d0e9",
   "metadata": {},
   "outputs": [],
   "source": [
    "%load_ext autoreload\n",
    "%autoreload 2\n",
    "\n",
    "import pandas as pd\n",
    "import numpy as np\n",
    "import matplotlib.pyplot as plt\n",
    "\n",
    "from src.utils import cost, write_submission_global, test_model, final_model"
   ]
  },
  {
   "cell_type": "markdown",
   "id": "9f25a05b",
   "metadata": {},
   "source": [
    "#### Get dataset"
   ]
  },
  {
   "cell_type": "code",
   "execution_count": 2,
   "id": "d7daacd1",
   "metadata": {},
   "outputs": [],
   "source": [
    "from src.all_train import X_train, X_test, Y_train, Y_test, test_data, train_set, label_set"
   ]
  },
  {
   "cell_type": "markdown",
   "id": "a00af532",
   "metadata": {},
   "source": [
    "#### Training and output result"
   ]
  },
  {
   "cell_type": "code",
   "execution_count": 3,
   "id": "fe17d034",
   "metadata": {},
   "outputs": [
    {
     "name": "stdout",
     "output_type": "stream",
     "text": [
      "24967.127251288715 23955.674102599136\n",
      "CPU times: user 7.48 ms, sys: 10.6 ms, total: 18 ms\n",
      "Wall time: 6.18 ms\n"
     ]
    }
   ],
   "source": [
    "%%time\n",
    "from sklearn.linear_model import LinearRegression\n",
    "lr_model, cost_train, cost_test = test_model(LinearRegression(), X_train, X_test, Y_train, Y_test)"
   ]
  },
  {
   "cell_type": "code",
   "execution_count": 4,
   "id": "25514d6c",
   "metadata": {},
   "outputs": [],
   "source": [
    "lr_model = final_model(LinearRegression(), train_set, label_set)\n",
    "train_answer = lr_model.predict(train_set)\n",
    "test_answer = lr_model.predict(test_data)\n",
    "np.save(\"aid/all_train_train_lr\", train_answer)\n",
    "np.save(\"aid/all_train_test_lr\", test_answer)\n",
    "write_submission_global(lr_model, cost_train, cost_test, test_data, output_name=\"lr_all_train\")"
   ]
  },
  {
   "cell_type": "code",
   "execution_count": 5,
   "id": "fda63a7e",
   "metadata": {},
   "outputs": [
    {
     "name": "stdout",
     "output_type": "stream",
     "text": [
      "16222.017026437676 15421.446194922608\n",
      "CPU times: user 1.44 s, sys: 329 µs, total: 1.44 s\n",
      "Wall time: 130 ms\n"
     ]
    }
   ],
   "source": [
    "%%time\n",
    "from lightgbm import LGBMRegressor\n",
    "lgbm_model, cost_train, cost_test = test_model(LGBMRegressor(num_leaves=8, \n",
    "                                                             max_depth=3, \n",
    "                                                             learning_rate=0.07, \n",
    "                                                             objective=\"mae\",\n",
    "                                                             random_state=0), \n",
    "                                              X_train, X_test, Y_train, Y_test)"
   ]
  },
  {
   "cell_type": "code",
   "execution_count": 6,
   "id": "db505df9",
   "metadata": {},
   "outputs": [],
   "source": [
    "lgbm_model = final_model(LGBMRegressor(num_leaves=8, \n",
    "                                       max_depth=3, \n",
    "                                       learning_rate=0.07, \n",
    "                                       objective=\"mae\",\n",
    "                                       random_state=0), train_set, label_set)\n",
    "train_answer = lgbm_model.predict(train_set)\n",
    "test_answer = lgbm_model.predict(test_data)\n",
    "np.save(\"aid/all_train_train_lgbm\", train_answer)\n",
    "np.save(\"aid/all_train_test_lgbm\", test_answer)\n",
    "write_submission_global(lgbm_model, cost_train, cost_test, test_data, output_name=\"lgbm_all_train\")"
   ]
  },
  {
   "cell_type": "code",
   "execution_count": 7,
   "id": "a8eb5d21",
   "metadata": {},
   "outputs": [
    {
     "data": {
      "text/html": [
       "<div>\n",
       "<style scoped>\n",
       "    .dataframe tbody tr th:only-of-type {\n",
       "        vertical-align: middle;\n",
       "    }\n",
       "\n",
       "    .dataframe tbody tr th {\n",
       "        vertical-align: top;\n",
       "    }\n",
       "\n",
       "    .dataframe thead th {\n",
       "        text-align: right;\n",
       "    }\n",
       "</style>\n",
       "<table border=\"1\" class=\"dataframe\">\n",
       "  <thead>\n",
       "    <tr style=\"text-align: right;\">\n",
       "      <th></th>\n",
       "      <th>Id</th>\n",
       "      <th>engagement</th>\n",
       "    </tr>\n",
       "  </thead>\n",
       "  <tbody>\n",
       "    <tr>\n",
       "      <th>count</th>\n",
       "      <td>1871.000000</td>\n",
       "      <td>1871.000000</td>\n",
       "    </tr>\n",
       "    <tr>\n",
       "      <th>mean</th>\n",
       "      <td>1248.167290</td>\n",
       "      <td>20583.391370</td>\n",
       "    </tr>\n",
       "    <tr>\n",
       "      <th>std</th>\n",
       "      <td>723.581881</td>\n",
       "      <td>30592.294387</td>\n",
       "    </tr>\n",
       "    <tr>\n",
       "      <th>min</th>\n",
       "      <td>1.000000</td>\n",
       "      <td>-0.000000</td>\n",
       "    </tr>\n",
       "    <tr>\n",
       "      <th>25%</th>\n",
       "      <td>624.500000</td>\n",
       "      <td>4189.061791</td>\n",
       "    </tr>\n",
       "    <tr>\n",
       "      <th>50%</th>\n",
       "      <td>1240.000000</td>\n",
       "      <td>15045.830443</td>\n",
       "    </tr>\n",
       "    <tr>\n",
       "      <th>75%</th>\n",
       "      <td>1873.000000</td>\n",
       "      <td>25648.364619</td>\n",
       "    </tr>\n",
       "    <tr>\n",
       "      <th>max</th>\n",
       "      <td>2500.000000</td>\n",
       "      <td>442090.376266</td>\n",
       "    </tr>\n",
       "  </tbody>\n",
       "</table>\n",
       "</div>"
      ],
      "text/plain": [
       "                Id     engagement\n",
       "count  1871.000000    1871.000000\n",
       "mean   1248.167290   20583.391370\n",
       "std     723.581881   30592.294387\n",
       "min       1.000000      -0.000000\n",
       "25%     624.500000    4189.061791\n",
       "50%    1240.000000   15045.830443\n",
       "75%    1873.000000   25648.364619\n",
       "max    2500.000000  442090.376266"
      ]
     },
     "execution_count": 7,
     "metadata": {},
     "output_type": "execute_result"
    }
   ],
   "source": [
    "pd.read_csv(\"output/lr_all_train_24967.13_23955.67.csv\").describe()"
   ]
  },
  {
   "cell_type": "code",
   "execution_count": 8,
   "id": "0f79eec9",
   "metadata": {},
   "outputs": [
    {
     "data": {
      "text/html": [
       "<div>\n",
       "<style scoped>\n",
       "    .dataframe tbody tr th:only-of-type {\n",
       "        vertical-align: middle;\n",
       "    }\n",
       "\n",
       "    .dataframe tbody tr th {\n",
       "        vertical-align: top;\n",
       "    }\n",
       "\n",
       "    .dataframe thead th {\n",
       "        text-align: right;\n",
       "    }\n",
       "</style>\n",
       "<table border=\"1\" class=\"dataframe\">\n",
       "  <thead>\n",
       "    <tr style=\"text-align: right;\">\n",
       "      <th></th>\n",
       "      <th>Id</th>\n",
       "      <th>engagement</th>\n",
       "    </tr>\n",
       "  </thead>\n",
       "  <tbody>\n",
       "    <tr>\n",
       "      <th>count</th>\n",
       "      <td>1871.000000</td>\n",
       "      <td>1871.000000</td>\n",
       "    </tr>\n",
       "    <tr>\n",
       "      <th>mean</th>\n",
       "      <td>1248.167290</td>\n",
       "      <td>5878.699824</td>\n",
       "    </tr>\n",
       "    <tr>\n",
       "      <th>std</th>\n",
       "      <td>723.581881</td>\n",
       "      <td>13359.117499</td>\n",
       "    </tr>\n",
       "    <tr>\n",
       "      <th>min</th>\n",
       "      <td>1.000000</td>\n",
       "      <td>-0.000000</td>\n",
       "    </tr>\n",
       "    <tr>\n",
       "      <th>25%</th>\n",
       "      <td>624.500000</td>\n",
       "      <td>17.282435</td>\n",
       "    </tr>\n",
       "    <tr>\n",
       "      <th>50%</th>\n",
       "      <td>1240.000000</td>\n",
       "      <td>840.019162</td>\n",
       "    </tr>\n",
       "    <tr>\n",
       "      <th>75%</th>\n",
       "      <td>1873.000000</td>\n",
       "      <td>6519.626597</td>\n",
       "    </tr>\n",
       "    <tr>\n",
       "      <th>max</th>\n",
       "      <td>2500.000000</td>\n",
       "      <td>102188.432842</td>\n",
       "    </tr>\n",
       "  </tbody>\n",
       "</table>\n",
       "</div>"
      ],
      "text/plain": [
       "                Id     engagement\n",
       "count  1871.000000    1871.000000\n",
       "mean   1248.167290    5878.699824\n",
       "std     723.581881   13359.117499\n",
       "min       1.000000      -0.000000\n",
       "25%     624.500000      17.282435\n",
       "50%    1240.000000     840.019162\n",
       "75%    1873.000000    6519.626597\n",
       "max    2500.000000  102188.432842"
      ]
     },
     "execution_count": 8,
     "metadata": {},
     "output_type": "execute_result"
    }
   ],
   "source": [
    "pd.read_csv(\"output/lgbm_all_train_16222.02_15421.45.csv\").describe()"
   ]
  }
 ],
 "metadata": {
  "kernelspec": {
   "display_name": "Python 3",
   "language": "python",
   "name": "python3"
  },
  "language_info": {
   "codemirror_mode": {
    "name": "ipython",
    "version": 3
   },
   "file_extension": ".py",
   "mimetype": "text/x-python",
   "name": "python",
   "nbconvert_exporter": "python",
   "pygments_lexer": "ipython3",
   "version": "3.9.7"
  }
 },
 "nbformat": 4,
 "nbformat_minor": 5
}
