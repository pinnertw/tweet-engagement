{
 "cells": [
  {
   "cell_type": "code",
   "execution_count": 1,
   "id": "7770d0e9",
   "metadata": {},
   "outputs": [],
   "source": [
    "%load_ext autoreload\n",
    "%autoreload 2\n",
    "\n",
    "import pandas as pd\n",
    "import numpy as np\n",
    "import matplotlib.pyplot as plt\n",
    "\n",
    "from src.utils import cost, write_submission_global, test_model ,final_model"
   ]
  },
  {
   "cell_type": "markdown",
   "id": "9f25a05b",
   "metadata": {},
   "source": [
    "#### Get dataset"
   ]
  },
  {
   "cell_type": "code",
   "execution_count": 2,
   "id": "0187d222",
   "metadata": {},
   "outputs": [],
   "source": [
    "from src.all_author import X_train, X_test, Y_train, Y_test, test_data, train_set, label_set"
   ]
  },
  {
   "cell_type": "markdown",
   "id": "a00af532",
   "metadata": {},
   "source": [
    "#### Training and output result"
   ]
  },
  {
   "cell_type": "code",
   "execution_count": 3,
   "id": "eaeefe58",
   "metadata": {},
   "outputs": [
    {
     "name": "stdout",
     "output_type": "stream",
     "text": [
      "2306.2497978751053 2312.1998479607664\n",
      "CPU times: user 221 ms, sys: 21.1 ms, total: 242 ms\n",
      "Wall time: 115 ms\n"
     ]
    }
   ],
   "source": [
    "%%time\n",
    "from sklearn.linear_model import LinearRegression\n",
    "lr_model, cost_train, cost_test = test_model(LinearRegression(), X_train, X_test, Y_train, Y_test)"
   ]
  },
  {
   "cell_type": "code",
   "execution_count": 4,
   "id": "1bb0d5e6",
   "metadata": {},
   "outputs": [],
   "source": [
    "lr_model = final_model(LinearRegression(), train_set, label_set)\n",
    "train_answer = lr_model.predict(train_set)\n",
    "test_answer = lr_model.predict(test_data)\n",
    "np.save(\"aid/all_author_train_lr\", train_answer)\n",
    "np.save(\"aid/all_author_test_lr\", test_answer)\n",
    "write_submission_global(lr_model, cost_train, cost_test, test_data, output_name=\"lr_all_author\")"
   ]
  },
  {
   "cell_type": "code",
   "execution_count": 5,
   "id": "274d8ec1",
   "metadata": {},
   "outputs": [
    {
     "name": "stdout",
     "output_type": "stream",
     "text": [
      "1369.7178607817607 1364.8415663989142\n",
      "CPU times: user 18.2 s, sys: 382 ms, total: 18.6 s\n",
      "Wall time: 2.42 s\n"
     ]
    }
   ],
   "source": [
    "%%time\n",
    "from lightgbm import LGBMRegressor\n",
    "lgbm_model, cost_train, cost_test = test_model(LGBMRegressor(num_leaves=16, \n",
    "                                                             max_depth=4, \n",
    "                                                             learning_rate=0.07, \n",
    "                                                             objective=\"mae\",\n",
    "                                                             random_state=0), \n",
    "                                              X_train, X_test, Y_train, Y_test)"
   ]
  },
  {
   "cell_type": "code",
   "execution_count": 6,
   "id": "db505df9",
   "metadata": {},
   "outputs": [],
   "source": [
    "lgbm_model = final_model(LGBMRegressor(num_leaves=16, \n",
    "                                       max_depth=4, \n",
    "                                       learning_rate=0.07, \n",
    "                                       objective=\"mae\",\n",
    "                                       random_state=0), train_set, label_set)\n",
    "train_answer = lgbm_model.predict(train_set)\n",
    "test_answer = lgbm_model.predict(test_data)\n",
    "np.save(\"aid/all_author_train_lgbm\", train_answer)\n",
    "np.save(\"aid/all_author_test_lgbm\", test_answer)\n",
    "write_submission_global(lgbm_model, cost_train, cost_test, test_data, output_name=\"lgbm_all_author\")"
   ]
  },
  {
   "cell_type": "code",
   "execution_count": 7,
   "id": "0f79eec9",
   "metadata": {},
   "outputs": [
    {
     "data": {
      "text/html": [
       "<div>\n",
       "<style scoped>\n",
       "    .dataframe tbody tr th:only-of-type {\n",
       "        vertical-align: middle;\n",
       "    }\n",
       "\n",
       "    .dataframe tbody tr th {\n",
       "        vertical-align: top;\n",
       "    }\n",
       "\n",
       "    .dataframe thead th {\n",
       "        text-align: right;\n",
       "    }\n",
       "</style>\n",
       "<table border=\"1\" class=\"dataframe\">\n",
       "  <thead>\n",
       "    <tr style=\"text-align: right;\">\n",
       "      <th></th>\n",
       "      <th>Id</th>\n",
       "      <th>engagement</th>\n",
       "    </tr>\n",
       "  </thead>\n",
       "  <tbody>\n",
       "    <tr>\n",
       "      <th>count</th>\n",
       "      <td>1871.000000</td>\n",
       "      <td>1871.000000</td>\n",
       "    </tr>\n",
       "    <tr>\n",
       "      <th>mean</th>\n",
       "      <td>1248.167290</td>\n",
       "      <td>2092.049436</td>\n",
       "    </tr>\n",
       "    <tr>\n",
       "      <th>std</th>\n",
       "      <td>723.581881</td>\n",
       "      <td>4911.965744</td>\n",
       "    </tr>\n",
       "    <tr>\n",
       "      <th>min</th>\n",
       "      <td>1.000000</td>\n",
       "      <td>-0.000000</td>\n",
       "    </tr>\n",
       "    <tr>\n",
       "      <th>25%</th>\n",
       "      <td>624.500000</td>\n",
       "      <td>1175.141936</td>\n",
       "    </tr>\n",
       "    <tr>\n",
       "      <th>50%</th>\n",
       "      <td>1240.000000</td>\n",
       "      <td>1479.984176</td>\n",
       "    </tr>\n",
       "    <tr>\n",
       "      <th>75%</th>\n",
       "      <td>1873.000000</td>\n",
       "      <td>2073.919250</td>\n",
       "    </tr>\n",
       "    <tr>\n",
       "      <th>max</th>\n",
       "      <td>2500.000000</td>\n",
       "      <td>106789.009408</td>\n",
       "    </tr>\n",
       "  </tbody>\n",
       "</table>\n",
       "</div>"
      ],
      "text/plain": [
       "                Id     engagement\n",
       "count  1871.000000    1871.000000\n",
       "mean   1248.167290    2092.049436\n",
       "std     723.581881    4911.965744\n",
       "min       1.000000      -0.000000\n",
       "25%     624.500000    1175.141936\n",
       "50%    1240.000000    1479.984176\n",
       "75%    1873.000000    2073.919250\n",
       "max    2500.000000  106789.009408"
      ]
     },
     "execution_count": 7,
     "metadata": {},
     "output_type": "execute_result"
    }
   ],
   "source": [
    "pd.read_csv(\"output/lr_all_author_2306.25_2312.20.csv\").describe()"
   ]
  },
  {
   "cell_type": "code",
   "execution_count": 8,
   "id": "a8eb5d21",
   "metadata": {},
   "outputs": [
    {
     "data": {
      "text/html": [
       "<div>\n",
       "<style scoped>\n",
       "    .dataframe tbody tr th:only-of-type {\n",
       "        vertical-align: middle;\n",
       "    }\n",
       "\n",
       "    .dataframe tbody tr th {\n",
       "        vertical-align: top;\n",
       "    }\n",
       "\n",
       "    .dataframe thead th {\n",
       "        text-align: right;\n",
       "    }\n",
       "</style>\n",
       "<table border=\"1\" class=\"dataframe\">\n",
       "  <thead>\n",
       "    <tr style=\"text-align: right;\">\n",
       "      <th></th>\n",
       "      <th>Id</th>\n",
       "      <th>engagement</th>\n",
       "    </tr>\n",
       "  </thead>\n",
       "  <tbody>\n",
       "    <tr>\n",
       "      <th>count</th>\n",
       "      <td>1871.000000</td>\n",
       "      <td>1871.000000</td>\n",
       "    </tr>\n",
       "    <tr>\n",
       "      <th>mean</th>\n",
       "      <td>1248.167290</td>\n",
       "      <td>499.380925</td>\n",
       "    </tr>\n",
       "    <tr>\n",
       "      <th>std</th>\n",
       "      <td>723.581881</td>\n",
       "      <td>1002.063319</td>\n",
       "    </tr>\n",
       "    <tr>\n",
       "      <th>min</th>\n",
       "      <td>1.000000</td>\n",
       "      <td>-0.000000</td>\n",
       "    </tr>\n",
       "    <tr>\n",
       "      <th>25%</th>\n",
       "      <td>624.500000</td>\n",
       "      <td>3.840621</td>\n",
       "    </tr>\n",
       "    <tr>\n",
       "      <th>50%</th>\n",
       "      <td>1240.000000</td>\n",
       "      <td>60.065709</td>\n",
       "    </tr>\n",
       "    <tr>\n",
       "      <th>75%</th>\n",
       "      <td>1873.000000</td>\n",
       "      <td>450.892048</td>\n",
       "    </tr>\n",
       "    <tr>\n",
       "      <th>max</th>\n",
       "      <td>2500.000000</td>\n",
       "      <td>6810.653929</td>\n",
       "    </tr>\n",
       "  </tbody>\n",
       "</table>\n",
       "</div>"
      ],
      "text/plain": [
       "                Id   engagement\n",
       "count  1871.000000  1871.000000\n",
       "mean   1248.167290   499.380925\n",
       "std     723.581881  1002.063319\n",
       "min       1.000000    -0.000000\n",
       "25%     624.500000     3.840621\n",
       "50%    1240.000000    60.065709\n",
       "75%    1873.000000   450.892048\n",
       "max    2500.000000  6810.653929"
      ]
     },
     "execution_count": 8,
     "metadata": {},
     "output_type": "execute_result"
    }
   ],
   "source": [
    "pd.read_csv(\"output/lgbm_all_author_1369.72_1364.84.csv\").describe()"
   ]
  }
 ],
 "metadata": {
  "kernelspec": {
   "display_name": "Python 3",
   "language": "python",
   "name": "python3"
  },
  "language_info": {
   "codemirror_mode": {
    "name": "ipython",
    "version": 3
   },
   "file_extension": ".py",
   "mimetype": "text/x-python",
   "name": "python",
   "nbconvert_exporter": "python",
   "pygments_lexer": "ipython3",
   "version": "3.9.7"
  }
 },
 "nbformat": 4,
 "nbformat_minor": 5
}
