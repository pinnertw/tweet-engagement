{
 "cells": [
  {
   "cell_type": "code",
   "execution_count": 1,
   "id": "7770d0e9",
   "metadata": {},
   "outputs": [],
   "source": [
    "%load_ext autoreload\n",
    "%autoreload 2\n",
    "\n",
    "\n",
    "import pandas as pd\n",
    "import numpy as np\n",
    "import matplotlib.pyplot as plt\n",
    "\n",
    "from src.utils import label, author_data, sample_submission, train, test, features_author\n",
    "from src.utils import quantile_50, mean_, fill\n",
    "from src.utils import cost, write_submission_local\n",
    "\n",
    "from src.single_author import train_single_author, train_single_author_LGBM, replace_nan"
   ]
  },
  {
   "cell_type": "code",
   "execution_count": 2,
   "id": "c1af5cc9",
   "metadata": {},
   "outputs": [],
   "source": [
    "# Get single author data\n",
    "grouped = author_data.groupby(\"author\")"
   ]
  },
  {
   "cell_type": "code",
   "execution_count": 3,
   "id": "7eb5953c",
   "metadata": {},
   "outputs": [],
   "source": [
    "from sklearn.linear_model import LinearRegression"
   ]
  },
  {
   "cell_type": "code",
   "execution_count": 4,
   "id": "7d17ca7d",
   "metadata": {},
   "outputs": [
    {
     "name": "stderr",
     "output_type": "stream",
     "text": [
      "4156it [00:22, 187.75it/s]\n",
      "1871it [00:07, 237.06it/s]"
     ]
    },
    {
     "name": "stdout",
     "output_type": "stream",
     "text": [
      "17354.92052065119\n",
      "CPU times: user 2min 46s, sys: 2.65 s, total: 2min 48s\n",
      "Wall time: 30 s\n"
     ]
    },
    {
     "name": "stderr",
     "output_type": "stream",
     "text": [
      "\n"
     ]
    }
   ],
   "source": [
    "%%time\n",
    "train_answer = train_single_author(train, grouped, LinearRegression)\n",
    "test_answer = train_single_author(test, grouped, LinearRegression)\n",
    "cost = np.abs(train.engagement - replace_nan(train_answer, fill)).mean()\n",
    "np.save(\"aid/single_author_train_lr\", train_answer)\n",
    "np.save(\"aid/single_author_test_lr\", test_answer)\n",
    "write_submission_local(replace_nan(test_answer, fill), cost, output_name=\"single_author_lr\")"
   ]
  },
  {
   "cell_type": "code",
   "execution_count": 5,
   "id": "1699cf54",
   "metadata": {},
   "outputs": [
    {
     "name": "stderr",
     "output_type": "stream",
     "text": [
      "4156it [00:56, 73.27it/s]\n",
      "1871it [00:24, 77.20it/s]"
     ]
    },
    {
     "name": "stdout",
     "output_type": "stream",
     "text": [
      "17149.943728541908\n",
      "CPU times: user 16min 2s, sys: 8.34 s, total: 16min 10s\n",
      "Wall time: 1min 20s\n"
     ]
    },
    {
     "name": "stderr",
     "output_type": "stream",
     "text": [
      "\n"
     ]
    }
   ],
   "source": [
    "%%time\n",
    "train_answer = train_single_author_LGBM(train, grouped)\n",
    "test_answer = train_single_author_LGBM(test, grouped)\n",
    "cost = np.abs(train.engagement - replace_nan(train_answer, fill)).mean()\n",
    "np.save(\"aid/single_author_train_lgbm\", train_answer)\n",
    "np.save(\"aid/single_author_test_lgbm\", test_answer)\n",
    "write_submission_local(replace_nan(test_answer, fill), cost, output_name=\"single_author_lgbm\")"
   ]
  },
  {
   "cell_type": "code",
   "execution_count": 6,
   "id": "e85aae08",
   "metadata": {},
   "outputs": [
    {
     "data": {
      "text/html": [
       "<div>\n",
       "<style scoped>\n",
       "    .dataframe tbody tr th:only-of-type {\n",
       "        vertical-align: middle;\n",
       "    }\n",
       "\n",
       "    .dataframe tbody tr th {\n",
       "        vertical-align: top;\n",
       "    }\n",
       "\n",
       "    .dataframe thead th {\n",
       "        text-align: right;\n",
       "    }\n",
       "</style>\n",
       "<table border=\"1\" class=\"dataframe\">\n",
       "  <thead>\n",
       "    <tr style=\"text-align: right;\">\n",
       "      <th></th>\n",
       "      <th>Id</th>\n",
       "      <th>engagement</th>\n",
       "    </tr>\n",
       "  </thead>\n",
       "  <tbody>\n",
       "    <tr>\n",
       "      <th>count</th>\n",
       "      <td>1871.000000</td>\n",
       "      <td>1871.000000</td>\n",
       "    </tr>\n",
       "    <tr>\n",
       "      <th>mean</th>\n",
       "      <td>1248.167290</td>\n",
       "      <td>6230.629029</td>\n",
       "    </tr>\n",
       "    <tr>\n",
       "      <th>std</th>\n",
       "      <td>723.581881</td>\n",
       "      <td>39266.857737</td>\n",
       "    </tr>\n",
       "    <tr>\n",
       "      <th>min</th>\n",
       "      <td>1.000000</td>\n",
       "      <td>-0.000000</td>\n",
       "    </tr>\n",
       "    <tr>\n",
       "      <th>25%</th>\n",
       "      <td>624.500000</td>\n",
       "      <td>3.068370</td>\n",
       "    </tr>\n",
       "    <tr>\n",
       "      <th>50%</th>\n",
       "      <td>1240.000000</td>\n",
       "      <td>141.792867</td>\n",
       "    </tr>\n",
       "    <tr>\n",
       "      <th>75%</th>\n",
       "      <td>1873.000000</td>\n",
       "      <td>1666.495670</td>\n",
       "    </tr>\n",
       "    <tr>\n",
       "      <th>max</th>\n",
       "      <td>2500.000000</td>\n",
       "      <td>963103.520298</td>\n",
       "    </tr>\n",
       "  </tbody>\n",
       "</table>\n",
       "</div>"
      ],
      "text/plain": [
       "                Id     engagement\n",
       "count  1871.000000    1871.000000\n",
       "mean   1248.167290    6230.629029\n",
       "std     723.581881   39266.857737\n",
       "min       1.000000      -0.000000\n",
       "25%     624.500000       3.068370\n",
       "50%    1240.000000     141.792867\n",
       "75%    1873.000000    1666.495670\n",
       "max    2500.000000  963103.520298"
      ]
     },
     "execution_count": 6,
     "metadata": {},
     "output_type": "execute_result"
    }
   ],
   "source": [
    "pd.read_csv(\"output/single_author_lr_17354.92.csv\").describe()"
   ]
  },
  {
   "cell_type": "code",
   "execution_count": 7,
   "id": "2c77c49c",
   "metadata": {},
   "outputs": [
    {
     "data": {
      "text/html": [
       "<div>\n",
       "<style scoped>\n",
       "    .dataframe tbody tr th:only-of-type {\n",
       "        vertical-align: middle;\n",
       "    }\n",
       "\n",
       "    .dataframe tbody tr th {\n",
       "        vertical-align: top;\n",
       "    }\n",
       "\n",
       "    .dataframe thead th {\n",
       "        text-align: right;\n",
       "    }\n",
       "</style>\n",
       "<table border=\"1\" class=\"dataframe\">\n",
       "  <thead>\n",
       "    <tr style=\"text-align: right;\">\n",
       "      <th></th>\n",
       "      <th>Id</th>\n",
       "      <th>engagement</th>\n",
       "    </tr>\n",
       "  </thead>\n",
       "  <tbody>\n",
       "    <tr>\n",
       "      <th>count</th>\n",
       "      <td>1871.000000</td>\n",
       "      <td>1871.000000</td>\n",
       "    </tr>\n",
       "    <tr>\n",
       "      <th>mean</th>\n",
       "      <td>1248.167290</td>\n",
       "      <td>3677.307256</td>\n",
       "    </tr>\n",
       "    <tr>\n",
       "      <th>std</th>\n",
       "      <td>723.581881</td>\n",
       "      <td>16171.204653</td>\n",
       "    </tr>\n",
       "    <tr>\n",
       "      <th>min</th>\n",
       "      <td>1.000000</td>\n",
       "      <td>0.000000</td>\n",
       "    </tr>\n",
       "    <tr>\n",
       "      <th>25%</th>\n",
       "      <td>624.500000</td>\n",
       "      <td>0.004406</td>\n",
       "    </tr>\n",
       "    <tr>\n",
       "      <th>50%</th>\n",
       "      <td>1240.000000</td>\n",
       "      <td>37.140305</td>\n",
       "    </tr>\n",
       "    <tr>\n",
       "      <th>75%</th>\n",
       "      <td>1873.000000</td>\n",
       "      <td>660.172462</td>\n",
       "    </tr>\n",
       "    <tr>\n",
       "      <th>max</th>\n",
       "      <td>2500.000000</td>\n",
       "      <td>282615.500000</td>\n",
       "    </tr>\n",
       "  </tbody>\n",
       "</table>\n",
       "</div>"
      ],
      "text/plain": [
       "                Id     engagement\n",
       "count  1871.000000    1871.000000\n",
       "mean   1248.167290    3677.307256\n",
       "std     723.581881   16171.204653\n",
       "min       1.000000       0.000000\n",
       "25%     624.500000       0.004406\n",
       "50%    1240.000000      37.140305\n",
       "75%    1873.000000     660.172462\n",
       "max    2500.000000  282615.500000"
      ]
     },
     "execution_count": 7,
     "metadata": {},
     "output_type": "execute_result"
    }
   ],
   "source": [
    "pd.read_csv(\"output/single_author_lgbm_17149.94.csv\").describe()"
   ]
  }
 ],
 "metadata": {
  "kernelspec": {
   "display_name": "Python 3",
   "language": "python",
   "name": "python3"
  },
  "language_info": {
   "codemirror_mode": {
    "name": "ipython",
    "version": 3
   },
   "file_extension": ".py",
   "mimetype": "text/x-python",
   "name": "python",
   "nbconvert_exporter": "python",
   "pygments_lexer": "ipython3",
   "version": "3.9.7"
  }
 },
 "nbformat": 4,
 "nbformat_minor": 5
}
